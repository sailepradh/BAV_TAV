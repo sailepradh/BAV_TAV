{
 "cells": [
  {
   "cell_type": "markdown",
   "metadata": {},
   "source": [
    "## March 03 2019\n",
    "\n",
    "\n",
    "* Ideas that was floated in the meeting was pertinent and more relevant \n",
    "    * GO analysis on PP dataset as well with PD TAV sets \n",
    "    * PP dataset analysis with more analytic approach\n",
    "    * Annotating the Distal element of PD interaction with TFs, Histone modifications and SNPs\n",
    "    * Allele specific interaction in PD and PP\n",
    "   \n",
    "* Make a universal table of PD Table with all the functional element added\n",
    "* EndoMT transitions in both Biscupid aortic valve and Tricuspid aortic valve"
   ]
  },
  {
   "cell_type": "markdown",
   "metadata": {},
   "source": [
    "### ROADMAP FOR BAV-TAV DATA ANALYSIS\n",
    "\n",
    "* Get all the PD with pvalue < 0.05 , length < = 10kb.\n",
    "\n",
    "* Annontate these dataset with Differential interaction, Differentially expressed genes and Differential H3K27ac peaks.\n",
    "\n",
    "* Populate this dataset with CTCF, (Other Cardiac specific)Transcription factor and DNAise HS from ENCODE, ROADMAP Epigenetics and FATHOM dataset from Aortic Endothelail cells \n",
    "\n",
    "* Find the Transcription factor binding sites (TFBS) in these regions\n",
    "\n",
    "* Annotate with the phased single nucleotide polymorphism (SNP)  and CNVs from these samples in these regions\n",
    "\n",
    "* Topological associated domains  (maybe)"
   ]
  },
  {
   "cell_type": "markdown",
   "metadata": {},
   "source": [
    "## TASKS \n",
    "\n",
    "#### * Make a script that takes all of the interaction dataset (PD) ana adds column with RNAseq and CHipseq data to the existing table.\n",
    "\n",
    "#### * Do diffchipseq and diffExpr in each conditions\n",
    "\n",
    "#### * Add these results to the PD table\n"
   ]
  },
  {
   "cell_type": "markdown",
   "metadata": {},
   "source": [
    "#### TASK 1 pseudo codes\n",
    "\n",
    "\n",
    "* Read PD table in python \n",
    "* Make a dictionary based on gene \n",
    "* Read Expression files in same dataset\n"
   ]
  },
  {
   "cell_type": "code",
   "execution_count": 1,
   "metadata": {},
   "outputs": [],
   "source": [
    "def int_dict_pd(file):\n",
    "    \"\"\"\n",
    "        This function takes the interaction file of promoter distal interaction and returns dictionary of gene name as \n",
    "        the key and transcript_Id, distal chromosome position, as the list.\n",
    "        \n",
    "        file = interaction file from HiCap runs with RefSeqName as the gene_ID, TranscriptName as transcript_ID\n",
    "    \n",
    "    \"\"\"\n",
    "    results_interaction = {}\n",
    "    with open (file, 'r') as int_files:\n",
    "        next(int_files)\n",
    "        \n",
    "        for lines in int_files:\n",
    "            line = lines.strip()\n",
    "            fields = line.split(\"\\t\")\n",
    "            if fields[11] == \"-1\":\n",
    "                pass\n",
    "            else:\n",
    "                interaction_genes = fields[0]\n",
    "                interaction_status_genes = results_interaction.get(interaction_genes,[])\n",
    "                interaction_status_genes.append([fields[1], fields[8], fields[9], fields[10], fields[11]])\n",
    "                results_interaction[interaction_genes] = interaction_status_genes\n",
    "    return (results_interaction)"
   ]
  },
  {
   "cell_type": "code",
   "execution_count": 2,
   "metadata": {},
   "outputs": [
    {
     "name": "stdout",
     "output_type": "stream",
     "text": [
      "['BAV2375_RNA.gene_abund.tab', 'BAV2424_RNA.gene_abund.tab', 'TAV2431_RNA.gene_abund.tab', 'TAV2515_RNA.gene_abund.tab']\n",
      "['TAV2431_RNA.gene_abund.tab', 'TAV2515_RNA.gene_abund.tab', 'BAV2375_RNA.gene_abund.tab', 'BAV2424_RNA.gene_abund.tab']\n"
     ]
    }
   ],
   "source": [
    "## Testing for the *.tab files output from stringtie\n",
    "\n",
    "import os\n",
    "import glob\n",
    "\n",
    "os.chdir(\"/Volumes/Work_drive/prj/BAV_TAV/data/raw_internal/RNA_data\")\n",
    "stringtie_output = glob.glob('*.tab')\n",
    "\n",
    "print(stringtie_output)\n",
    "myorder = [2,3,0,1]\n",
    "stringtie_output_sorted = [str(stringtie_output[i]) for i in myorder]\n",
    "print(stringtie_output_sorted)\n",
    "\n",
    "all_combnined = {}\n",
    "\n",
    "for i in stringtie_output_sorted:\n",
    "    with open (i, 'r') as tabfiles:\n",
    "        next(tabfiles)\n",
    "        \n",
    "        expression_genes = {}\n",
    "        \n",
    "        for lines in tabfiles:\n",
    "            line = lines.strip().split(\"\\t\")\n",
    "            genes_ID = line[1]\n",
    "            val_FPKM = expression_genes.get(genes_ID,[])\n",
    "            val = line[-2]\n",
    "            val_FPKM.append(val)\n",
    "            expression_genes[genes_ID] = val_FPKM\n",
    "                \n",
    "        for keys, value in expression_genes.items():\n",
    "            genes_ID = keys\n",
    "            val = all_combnined.get(genes_ID,[])\n",
    "            val.append(value)\n",
    "            all_combnined[genes_ID] = val\n",
    "            "
   ]
  },
  {
   "cell_type": "code",
   "execution_count": 3,
   "metadata": {},
   "outputs": [
    {
     "data": {
      "text/plain": [
       "['DDX11L1', 'WASH7P', 'MIR1302-2HG', 'RP11-34P13.7', 'RP11-34P13.8']"
      ]
     },
     "execution_count": 3,
     "metadata": {},
     "output_type": "execute_result"
    }
   ],
   "source": [
    "list (all_combnined.keys()) [0:5]"
   ]
  },
  {
   "cell_type": "code",
   "execution_count": 4,
   "metadata": {},
   "outputs": [],
   "source": [
    "import os \n",
    "os.chdir (\"/Volumes/Work_drive/prj/BAV_TAV/data/raw_internal/Interaction_march_corrected/\")\n",
    "\n",
    "\n",
    "fh = open(\"Probe_Distal_BAVTAV.filtered_expression.txt\", \"w\")\n",
    "\n",
    "with open (\"BAVTAV.Proximities.Probe_Distal_SP4_p01_filtered.txt\", 'r') as Int:\n",
    "    for lines in Int:  \n",
    "        if lines.startswith('RefSeqName'):\n",
    "            line = lines.strip().split(\"\\t\")\n",
    "            line.append ('width')\n",
    "            line.append ('TAV2431_FPKMS')\n",
    "            line.append ('TAV2515_FPKMS')\n",
    "            line.append ('BAV2375_FPKMS')\n",
    "            line.append ('BAV2424_FPKMS')\n",
    "            #print (line)\n",
    "            \n",
    "            fh.write(\"\\t\".join(line))\n",
    "            fh.write (\"\\n\")\n",
    "            continue\n",
    "            powd \n",
    "        else:\n",
    "            line = lines.strip().split(\"\\t\")\n",
    "            wdth = int(line[10]) - int(line[9])\n",
    "            dst = abs(int(line[11]))\n",
    "            line.append(str(wdth))\n",
    "            Expr_Genes = list (all_combnined.keys())\n",
    "            \n",
    "            \n",
    "            if wdth < 5000 and dst < 5000000:\n",
    "                \n",
    "                if line[0] in Expr_Genes:\n",
    "                    \n",
    "                    for i  in all_combnined[line[0]]:\n",
    "                        ind_exps = \",\".join(i)\n",
    "                        line.append (ind_exps )\n",
    "                    fh.write(\"\\t\".join(line))\n",
    "                    fh.write (\"\\n\")\n",
    "                \n",
    "                else:\n",
    "                    line.append(\"-1\")\n",
    "                    line.append(\"-1\")\n",
    "                    line.append(\"-1\")\n",
    "                    line.append(\"-1\")\n",
    "                    fh.write(\"\\t\".join(line))\n",
    "                    fh.write (\"\\n\")\n",
    "                    \n",
    "            \n",
    "fh.close()"
   ]
  },
  {
   "cell_type": "code",
   "execution_count": 6,
   "metadata": {},
   "outputs": [
    {
     "name": "stdout",
     "output_type": "stream",
     "text": [
      "/Volumes/Work_drive/prj/BAV_TAV/data/raw_internal/Interaction_march_corrected\n"
     ]
    }
   ],
   "source": [
    "%%bash\n",
    "pwd -P\n",
    "\n",
    " sed '1d'  Probe_Distal_BAVTAV.filtered_expression.txt | \\\n",
    " awk -v OFS=\"\\t\" '{print $9,$10,$11,$3}' |sort -k 1,1 -k2,2n  |uniq > sorted_PD.bed "
   ]
  },
  {
   "cell_type": "code",
   "execution_count": 7,
   "metadata": {},
   "outputs": [],
   "source": [
    "import sys\n",
    "import argparse\n",
    "import os \n",
    "import pybedtools\n",
    "import numpy as np\n",
    "\n",
    "\n",
    "os.chdir (\"/Volumes/Work_drive/prj/BAV_TAV/data/raw_internal/Interaction_march_corrected\")\n",
    "\n",
    "def bed2dict(bed):\n",
    "    dict_intersect = {}\n",
    "    for line in bed:\n",
    "        genomic_coordinate = line[0],line[1],line[2]\n",
    "        dict_intersect_keys = \",\".join(genomic_coordinate)\n",
    "        dict_intersect_values = dict_intersect.get(dict_intersect_keys,[])\n",
    "        dict_intersect_values.append(line[7])\n",
    "        dict_intersect[dict_intersect_keys] = dict_intersect_values\n",
    "    return dict_intersect\n",
    "\n",
    "def compAndret(list1,list2,list3):\n",
    "    A = \",\".join(list1)\n",
    "    if A in list2:\n",
    "        test = list3[A]\n",
    "        Mark = (\" \".join(np.unique(test)))\n",
    "    else:\n",
    "        Mark = str(0)\n",
    "    return(Mark)\n",
    "\n",
    "file1 = \"sorted_PD.bed\"\n",
    "file2 = \"TAV_Replicates.Bed\"\n",
    "file3 = \"BAV_Replicates.Bed\"\n",
    "\n",
    "\n",
    "interact_bed = pybedtools.BedTool(file1)\n",
    "TAV_his_bed = pybedtools.BedTool(file2)\n",
    "BAV_his_bed = pybedtools.BedTool(file3)\n",
    "\n",
    "TAV_intersect = interact_bed.intersect(TAV_his_bed, wo = True)\n",
    "BAV_intersect = interact_bed.intersect(BAV_his_bed, wo = True)\n",
    "\n",
    "TAV_dict = bed2dict(TAV_intersect)\n",
    "BAV_dict = bed2dict(BAV_intersect)\n",
    "\n",
    "keys_TAV_dict = list (TAV_dict.keys())\n",
    "keys_BAV_dict = list (BAV_dict.keys())\n",
    "\n",
    "interaction_file = \"Probe_Distal_BAVTAV.filtered_expression.txt\"\n",
    "\n",
    "filename_out = \"PD_Exprs_H3K27ac.txt\"\n",
    "fh = open(filename_out, \"w\")\n",
    "\n",
    "with open (interaction_file, 'r') as int_files:\n",
    "    for lines in int_files:\n",
    "        if lines.startswith('RefSeqName'):\n",
    "            line = lines.strip().split(\"\\t\")\n",
    "            line.append ('TAV_H3K27ac_overlap_width')\n",
    "            line.append ('BAV_H3K27ac_overlap_width')\n",
    "            fh.write(\"\\t\".join(line))\n",
    "            fh.write (\"\\n\")\n",
    "        \n",
    "        else:\n",
    "            A = lines.strip().split(\"\\t\")\n",
    "            coordinates =[A[8],A[9],A[10]]\n",
    "\n",
    "            TAV_His = compAndret(coordinates, keys_TAV_dict, TAV_dict)\n",
    "            BAV_His = compAndret(coordinates, keys_BAV_dict, BAV_dict)\n",
    "  \n",
    "            res = lines.strip()+\"\\t\"+TAV_His+\"\\t\"+BAV_His\n",
    "            fh.write (res)\n",
    "            fh.write (\"\\n\")\n",
    "            \n",
    "fh.close()"
   ]
  },
  {
   "cell_type": "code",
   "execution_count": 8,
   "metadata": {},
   "outputs": [],
   "source": [
    "%%bash\n",
    "\n",
    "rm -r Probe_Distal_BAVTAV.filtered_expression.txt"
   ]
  },
  {
   "cell_type": "code",
   "execution_count": null,
   "metadata": {},
   "outputs": [],
   "source": []
  }
 ],
 "metadata": {
  "kernelspec": {
   "display_name": "Python [default]",
   "language": "python",
   "name": "python3"
  },
  "language_info": {
   "codemirror_mode": {
    "name": "ipython",
    "version": 3
   },
   "file_extension": ".py",
   "mimetype": "text/x-python",
   "name": "python",
   "nbconvert_exporter": "python",
   "pygments_lexer": "ipython3",
   "version": "3.6.6"
  }
 },
 "nbformat": 4,
 "nbformat_minor": 2
}
