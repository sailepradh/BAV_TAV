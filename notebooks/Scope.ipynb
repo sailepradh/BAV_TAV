{
 "cells": [
  {
   "cell_type": "markdown",
   "metadata": {},
   "source": [
    "### Study design and scope of BAV-TAV HiCap Interaction data sets\n",
    "\n",
    "    HiCap experiments produces interaction between the promoter/GWAS snps provided as probe in experiments and distal regions with the genome. Additionally, it also produces promoter- promoter interaction and promoter - GWAS interaction that is basically (PD) interaction. The aim of the current task is to give a overview of the interaction profiles of promoters in Bicuspid aortic valve and Tricuspid aoritc valve indidividuals (3 patients) each.\n",
    "\n",
    "    In the following cells, I will explore and answer these questions:\n",
    "        * Study design of BAV and TAV experiments\n",
    "        * Promoters and GWAS-SNPs in the probe sets\n",
    "        * Proximities and Interaction set of Probe-Distal and Probe-Probe datasets\n",
    "        * Negative Control sets in BAV and TAV experiments\n",
    "        * Total PD and PP interactions\n",
    "        * Number of promoter centric and GWAS centric interactions\n",
    "        * Significant interactions in these datasets\n",
    "        * Visualization of some GWAS and Promoter centric Interactions\n",
    "        * Number of PP and PD interactions in each Gene"
   ]
  },
  {
   "cell_type": "markdown",
   "metadata": {},
   "source": [
    "### Study design of HiCap experiments \n",
    "\n",
    "    Bicuspid aortic valve is a congenital condition associated with increased risk of cardiomyopathies. In contrary to normal tricupsid aortic valve , which consists of three cusps in aortic valve, BAV patients consitutes of two cusps in aortic valve. Ongoing research to find the genetic cause behind BAVconditions is aimed to understanding increased risk of developing cardiomyopathies in comparision to TAV individuals.\n",
    "    \n",
    "    The basic study design consitute of three biological patients with of BAV and three  TAV patients without significant coronary aretery diseases at the time of biopsy. The endotheial cells were collected from these individuals and grown in lab conditions. These cells then underwent high-throughput chromosome conformation capture followed by targeted sequence capture (HiCap) experiments. \n",
    "    \n",
    "    Interaction calls from such HiCap experiments were done using HiCaptools analysis workbench. The p-values relative to null-hypothesis of physical distance proportionality with physical distance were taken as considered in regards to negative control. Negative\tcontrols are regions with no known regulatory activity and far from promoters ar a set distance of greater than 50kb.\n",
    "   "
   ]
  },
  {
   "cell_type": "code",
   "execution_count": null,
   "metadata": {},
   "outputs": [],
   "source": []
  }
 ],
 "metadata": {
  "kernelspec": {
   "display_name": "Python [default]",
   "language": "python",
   "name": "python3"
  },
  "language_info": {
   "codemirror_mode": {
    "name": "ipython",
    "version": 3
   },
   "file_extension": ".py",
   "mimetype": "text/x-python",
   "name": "python",
   "nbconvert_exporter": "python",
   "pygments_lexer": "ipython3",
   "version": "3.6.6"
  }
 },
 "nbformat": 4,
 "nbformat_minor": 2
}
