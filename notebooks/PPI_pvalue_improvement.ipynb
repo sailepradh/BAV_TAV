{
 "cells": [
  {
   "cell_type": "code",
   "execution_count": 1,
   "metadata": {},
   "outputs": [],
   "source": [
    "import os\n",
    "import scipy.stats as stats\n",
    "\n",
    "\n",
    "def dictbgPP(file):\n",
    "    rep1 = {}\n",
    "    rep2 = {}\n",
    "    with open (file, \"r\") as rep_PP:\n",
    "        next(rep_PP)\n",
    "        for lines in rep_PP:\n",
    "            line = lines.strip().split(\"\\t\")\n",
    "            bin_sizes = int(line[1])\n",
    "            mean_std = rep1.get(bin_sizes,\"\")\n",
    "            mean_std = [float(line[-2]), float(line[-1])]\n",
    "            rep1[bin_sizes] = mean_std \n",
    "    key_array = list(rep1.keys())\n",
    "    \n",
    "    for k,val in rep1.items():\n",
    "        if key_array.index(k) < (len(key_array)-1):\n",
    "            bin_sizes = (k,key_array[key_array.index(k)+1])\n",
    "            mean_std = rep2.get(bin_sizes,\"\")\n",
    "            mean_std = val\n",
    "            rep2[bin_sizes] = val\n",
    "        else:\n",
    "            bin_sizes = (k,k+20000)\n",
    "            mean_std = rep2.get(bin_sizes,\"\")\n",
    "            mean_std = val\n",
    "            rep2[bin_sizes] = val\n",
    "    return(rep2)"
   ]
  },
  {
   "cell_type": "code",
   "execution_count": 2,
   "metadata": {},
   "outputs": [
    {
     "name": "stdout",
     "output_type": "stream",
     "text": [
      "4285 4359 5976\n",
      "4770 5821 4688\n"
     ]
    }
   ],
   "source": [
    "os.chdir (\"/Volumes/Work_drive/prj/BAV_TAV/data/raw_internal/Interaction_callsFeb/backgrdFiles/03_04_19/\")\n",
    "\n",
    "TAV2431_PP = dictbgPP(\"TAV2431.hg19.Probe_Probe.BackgroundLevels.20.10.30_2019-03-04.txt\")\n",
    "TAV2515_PP = dictbgPP(\"TAV2515.hg19.Probe_Probe.BackgroundLevels.20.10.30_2019-03-04.txt\")\n",
    "TAV2709_PP = dictbgPP(\"TAV2709.hg19.Probe_Probe.BackgroundLevels.20.10.30_2019-03-04.txt\")\n",
    "BAV2375_PP = dictbgPP(\"BAV2375.hg19.Probe_Probe.BackgroundLevels.20.10.30_2019-03-04.txt\")\n",
    "BAV2714_PP = dictbgPP(\"BAV2714.hg19.Probe_Probe.BackgroundLevels.20.10.30_2019-03-04.txt\")\n",
    "BAV2424_PP = dictbgPP(\"BAV2424.hg19.Probe_Probe.BackgroundLevels.20.10.30_2019-03-04.txt\")\n",
    "\n",
    "\n",
    "print (len(TAV2431_PP.keys()), len(TAV2515_PP.keys()), len(TAV2709_PP.keys()))\n",
    "print (len(BAV2375_PP.keys()), len(BAV2714_PP.keys()), len(BAV2424_PP.keys()))"
   ]
  },
  {
   "cell_type": "code",
   "execution_count": 3,
   "metadata": {},
   "outputs": [],
   "source": [
    "def calZcore(RepSP, BckgrdSP_mean, BckgrdSP_sd):\n",
    "    zscore = (RepSP - BckgrdSP_mean) / BckgrdSP_sd\n",
    "    prob = 1 - stats.norm.cdf(zscore)\n",
    "    str_prob = str(round(prob,3))\n",
    "    return (str_prob)\n",
    "\n",
    "fh = open(\"tmp1.txt\", \"w\") \n",
    "\n",
    "with open ('BAVTAV.Proximities.Probe_probe_SP4_p001_filtered.txt', 'r') as wLps:\n",
    "    next(wLps)\n",
    "    \n",
    "    for lines in wLps:\n",
    "        val_line = []\n",
    "        \n",
    "        line = lines.strip().split(\"\\t\")\n",
    "    \n",
    "\n",
    "        dist = abs(int(line[16]))\n",
    "        \n",
    "        TAV_rep1 = int (line[17])\n",
    "        TAV_rep2 = int (line[20]) \n",
    "        TAV_rep3 = int (line[23])\n",
    "        \n",
    "        BAV_rep1 = int (line[26])\n",
    "        BAV_rep2 = int (line[29]) \n",
    "        BAV_rep3 = int (line[32]) \n",
    "        \n",
    "        #print (dist, TAV_rep1,TAV_rep2)\n",
    "\n",
    "        for keys, values in TAV2431_PP.items():\n",
    "            if dist >= keys[0] and dist <= keys[1] and TAV_rep1 > 0:\n",
    "                p_val = calZcore (TAV_rep1,values[0],values[1])\n",
    "                val_line.append(p_val)\n",
    "            elif dist > keys[0] and dist < keys[1] and TAV_rep1 == 0:\n",
    "                val_line.append(\"1\")\n",
    "                     \n",
    "        for keys, values in TAV2515_PP.items():\n",
    "            if dist >= keys[0] and dist <= keys[1] and TAV_rep2 > 0:\n",
    "                p_val = calZcore (TAV_rep2,values[0],values[1])\n",
    "                val_line.append(p_val)\n",
    "            elif dist > keys[0] and dist < keys[1] and TAV_rep2 == 0:\n",
    "                val_line.append(\"1\")\n",
    "                     \n",
    "        for keys, values in TAV2709_PP.items():\n",
    "            if dist >= keys[0] and dist <= keys[1] and TAV_rep3 > 0:\n",
    "                p_val = calZcore (TAV_rep3,values[0],values[1])\n",
    "                val_line.append(p_val)\n",
    "            elif dist > keys[0] and dist < keys[1] and TAV_rep3 == 0:\n",
    "                val_line.append(\"1\")\n",
    "        \n",
    "        for keys, values in BAV2375_PP.items():\n",
    "            if dist >= keys[0] and dist <= keys[1] and BAV_rep1 > 0:\n",
    "                p_val = calZcore (BAV_rep1,values[0],values[1])\n",
    "                val_line.append(p_val)\n",
    "            elif dist > keys[0] and dist < keys[1] and BAV_rep1 == 0:\n",
    "                val_line.append(\"1\")\n",
    "        \n",
    "        for keys, values in BAV2424_PP.items():\n",
    "            if dist >= keys[0] and dist <= keys[1] and BAV_rep2 > 0:\n",
    "                p_val = calZcore (BAV_rep2,values[0],values[1])\n",
    "                val_line.append(p_val)\n",
    "            elif dist > keys[0] and dist < keys[1] and BAV_rep2 == 0:\n",
    "                val_line.append(\"1\")\n",
    "        \n",
    "        for keys, values in BAV2714_PP.items():\n",
    "            if dist >= keys[0] and dist <= keys[1] and BAV_rep3 > 0:\n",
    "                p_val = calZcore (BAV_rep3,values[0],values[1])\n",
    "                val_line.append(p_val)\n",
    "            elif dist > keys[0] and dist < keys[1] and BAV_rep3 == 0:\n",
    "                val_line.append(\"1\")\n",
    "        \n",
    " \n",
    "        #print (val_line)        \n",
    "        fh.write(\"\\t\".join(line)+\"\\t\"+\"\\t\".join(val_line))\n",
    "        fh.write(\"\\n\")\n",
    "fh.close()"
   ]
  },
  {
   "cell_type": "code",
   "execution_count": 20,
   "metadata": {},
   "outputs": [
    {
     "data": {
      "text/plain": [
       "'0.17191136'"
      ]
     },
     "execution_count": 20,
     "metadata": {},
     "output_type": "execute_result"
    }
   ],
   "source": [
    "def calZcore(RepSP, BckgrdSP_mean, BckgrdSP_sd):\n",
    "    zscore = (RepSP - BckgrdSP_mean) / BckgrdSP_sd\n",
    "    prob = 1 - stats.norm.cdf(zscore)\n",
    "    str_prob = str(round(prob,8))\n",
    "    return (str_prob)\n",
    "\n",
    "\n",
    "calZcore(30, 13.058, 17.897)"
   ]
  },
  {
   "cell_type": "code",
   "execution_count": null,
   "metadata": {},
   "outputs": [],
   "source": []
  }
 ],
 "metadata": {
  "kernelspec": {
   "display_name": "Python [default]",
   "language": "python",
   "name": "python3"
  },
  "language_info": {
   "codemirror_mode": {
    "name": "ipython",
    "version": 3
   },
   "file_extension": ".py",
   "mimetype": "text/x-python",
   "name": "python",
   "nbconvert_exporter": "python",
   "pygments_lexer": "ipython3",
   "version": "3.6.6"
  }
 },
 "nbformat": 4,
 "nbformat_minor": 2
}
