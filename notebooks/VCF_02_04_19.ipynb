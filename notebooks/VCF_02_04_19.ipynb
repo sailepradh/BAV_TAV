{
 "cells": [
  {
   "cell_type": "code",
   "execution_count": 1,
   "metadata": {},
   "outputs": [],
   "source": [
    "import sys\n",
    "import argparse\n",
    "import sys\n",
    "import re\n",
    "import os \n",
    "from pysam import VariantFile\n",
    "\n",
    "\n",
    "def vcf2DP(vcf_file_name,distal_test):\n",
    "    \n",
    "    VCFin = VariantFile(vcf_file_name)\n",
    "    \n",
    "    BAV1= []\n",
    "    BAV2= []\n",
    "    BAV3= []\n",
    "    TAV1= []\n",
    "    TAV2= []\n",
    "    TAV3= []\n",
    "    \n",
    "    for rec in VCFin.fetch(distal_test[0],int(distal_test[1]), int(distal_test[2])):\n",
    "        if len(rec.alleles[0]) ==1 and  len(rec.alleles[1]) ==1:\n",
    "            combined_info =[]\n",
    "            \n",
    "            for test in rec.samples.values():    \n",
    "                AD_combo = \"/\".join([str(x) for x in test[\"AD\"]])\n",
    "                genotype_combo = \"/\".join([str(x) for x in test[\"GT\"]])\n",
    "                if genotype_combo == \"None/None\":\n",
    "                    genotype_combo = \"./.\"\n",
    "                if rec.id == None:\n",
    "                    rec.id = \"X\"\n",
    "                all_test = rec.contig+\"_\"+str(rec.pos)+\"_\"+rec.id+\"_\"+\"|\".join(rec.alleles)+\"_\"+genotype_combo+\"_\"+AD_combo\n",
    "                combined_info.append(all_test)\n",
    "                \n",
    "            BAV1.append(combined_info[0])\n",
    "            BAV2.append(combined_info[1])\n",
    "            BAV3.append(combined_info[2])\n",
    "            TAV1.append(combined_info[3])\n",
    "            TAV2.append(combined_info[4])\n",
    "            TAV3.append(combined_info[5])\n",
    "    return (BAV1,BAV2,BAV3,TAV1,TAV2,TAV3)"
   ]
  },
  {
   "cell_type": "code",
   "execution_count": null,
   "metadata": {},
   "outputs": [],
   "source": []
  },
  {
   "cell_type": "code",
   "execution_count": 2,
   "metadata": {},
   "outputs": [],
   "source": [
    "#distal_test = ('chr1',201525520, 201526058)"
   ]
  },
  {
   "cell_type": "code",
   "execution_count": 3,
   "metadata": {},
   "outputs": [],
   "source": [
    "#path = \"//Volumes/Work_drive/prj/BAV_TAV/data/raw_internal/SNP_calling/Individual_and_combined_VCFs\"\n",
    "#os.chdir(path)\n",
    "\n",
    "#file =' BAV_all_combined.vcf.gz'\n",
    "\n",
    "#vcf2DP(file, distal_test)"
   ]
  },
  {
   "cell_type": "code",
   "execution_count": 16,
   "metadata": {},
   "outputs": [],
   "source": [
    "path = \"/Volumes/Work_drive/prj/BAV_TAV/data/raw_internal/SNP_calling/Individual_and_combined_VCFs\"\n",
    "os.chdir(path)\n",
    "\n",
    "file ='BAV_all_combined.vcf.gz'\n",
    "\n",
    "bedFiles = \"BAV_PD.bed\"\n",
    "f_r = open (bedFiles, \"r\")\n",
    "\n",
    "collector = 0\n",
    "for interactors in f_r:\n",
    "    line = interactors.strip().split(\"\\t\")\n",
    "    distal_element = (line[0], int(line[1]), int(line[2]))    \n",
    "    #print (distal_element)\n",
    "    a,b,c,d,e,f = vcf2DP(file, distal_element)\n",
    "    if len(a) > 0:\n",
    "        num = len(a)\n",
    "        collector = collector+num\n",
    "  "
   ]
  },
  {
   "cell_type": "code",
   "execution_count": 17,
   "metadata": {},
   "outputs": [
    {
     "data": {
      "text/plain": [
       "101"
      ]
     },
     "execution_count": 17,
     "metadata": {},
     "output_type": "execute_result"
    }
   ],
   "source": [
    "collector"
   ]
  },
  {
   "cell_type": "code",
   "execution_count": 78,
   "metadata": {},
   "outputs": [
    {
     "name": "stdout",
     "output_type": "stream",
     "text": [
      "16361\n"
     ]
    }
   ],
   "source": [
    "import sys\n",
    "import argparse\n",
    "import sys\n",
    "import re\n",
    "import os \n",
    "from pysam import VariantFile\n",
    "\n",
    "path = \"/Volumes/Work_drive/prj/BAV_TAV/data/raw_internal/SNP_calling/Individual_and_combined_VCFs\"\n",
    "os.chdir(path)\n",
    "\n",
    "file ='BAV_all_combined.vcf.gz'\n",
    "VCFin = VariantFile(file)\n",
    "\n",
    "geno_position = []\n",
    "for rec in VCFin:\n",
    "    if rec.id== None:\n",
    "        rec.id = \"X\"\n",
    "    combo=rec.chrom[3:],rec.start,rec.stop\n",
    "    geno_position.append (combo)\n",
    "\n",
    "print (len(geno_position))\n",
    "\n",
    "os.chdir (\"/Volumes/Work_drive/prj/Rare_variants_atherosclerosis/data/swegen_20161223\")\n",
    "VCFin = VariantFile(\"anon-SweGen_STR_NSPHS_1000samples_freq_hg19.vcf.gz\")\n",
    "\n",
    "freq_dict = {}\n",
    "\n",
    "for postion in geno_position:\n",
    "\n",
    "    for rec in VCFin.fetch(postion[0], int(postion[1]), int(postion[2])):\n",
    "        \n",
    "        freq_keys = \"chr\"+postion[0], int(postion[1]), int(postion[2])\n",
    "        freq_values = freq_dict.get(freq_keys,[])\n",
    "        \n",
    "        ref_alleles = rec.ref\n",
    "        alt_alleles = rec.alts\n",
    "        ids = rec.id\n",
    "        \n",
    "        if ids == None:\n",
    "            ids = \"X\"\n",
    "        freqz = rec.info[\"AF\"]\n",
    "        \n",
    "        if rec.start == int(postion[1]) and rec.stop == int(postion[2]):\n",
    "            combo_info = ids+\":\"+ref_alleles+\":\"+\",\".join(alt_alleles)+\":\"+\",\".join(str(x) for x in freqz)\n",
    "            freq_values.append(combo_info)\n",
    "            freq_dict[freq_keys] = freq_values"
   ]
  },
  {
   "cell_type": "code",
   "execution_count": 79,
   "metadata": {},
   "outputs": [
    {
     "name": "stdout",
     "output_type": "stream",
     "text": [
      "14035\n",
      "2326\n"
     ]
    }
   ],
   "source": [
    "Swed_freq = list(freq_dict.keys())\n",
    "print (len(Swed_freq))\n",
    "\n",
    "private_freq = []\n",
    "\n",
    "for position in geno_position:\n",
    "    alt_pos = \"chr\"+position[0],position[1],position[2]\n",
    "    if alt_pos not in Swed_freq:\n",
    "        private_freq.append(alt_pos)\n",
    "print(len(private_freq))  "
   ]
  },
  {
   "cell_type": "code",
   "execution_count": 103,
   "metadata": {},
   "outputs": [
    {
     "name": "stdout",
     "output_type": "stream",
     "text": [
      "['rs942819', 'C', 'T', '0.1599999964237213']\n"
     ]
    }
   ],
   "source": [
    "for k,v in freq_dict.items():\n",
    "    #tst = v.strip().split(\":\")\n",
    "\n",
    "    for x in v:\n",
    "        y = x.split(\":\")\n",
    "        print (y)\n",
    "\n",
    "    break"
   ]
  },
  {
   "cell_type": "code",
   "execution_count": 104,
   "metadata": {},
   "outputs": [
    {
     "name": "stdout",
     "output_type": "stream",
     "text": [
      "1\t11048112\t.\tGAGGA\tGAGGAAGGAAGGA,GAGGAAGGA,GAGGAAGGAAGGAAGGAAGGAAGGA,GAGGAAGGAAGGAAGGA,GAGGAAGGAAGGAAGGAAGGA,G\t543464\tPASS\tAC=420,922,25,125,36,19;AF=0.211,0.464,0.013,0.063,0.018,0.009567;AN=1986;BaseQRankSum=0.061;ClippingRankSum=0.067;DP=23086;ExcessHet=2.426;FS=0;MLEAC=323,924,25,130,37,20;MLEAF=0.163,0.465,0.013,0.065,0.019,0.01;MQ=60.54;MQ0=0;MQRankSum=0.584;QD=24.2;ReadPosRankSum=0.578;SOR=0.628;VQSLOD=-0.3418;culprit=FS;AC_Het=346,488,23,111,36,19;AC_Hom=74,434,2,14,0,0;AC_Hemi=0,0,0,0,0,0;AN_Adj=1986;AN_KGA=1986;AC_Adj=420,922,25,125,36,19;AC_KGA=420,922,25,125,36,19;Hom_KGA=74,434,2,14,0,0;Het_KGA=346,488,23,111,36,19;Hemi_KGA=0,0,0,0,0,0;CSQ=AGGAAGGAAGGA|downstream_gene_variant|MODIFIER|CFL1P6|ENSG00000215785|Transcript|ENST00000400899|processed_pseudogene|||||||||||1|2919|-1||sequence_alteration|HGNC|34545|YES|||||||||||||||||||||||||||||||||||||||||,AGGAAGGA|downstream_gene_variant|MODIFIER|CFL1P6|ENSG00000215785|Transcript|ENST00000400899|processed_pseudogene|||||||||||2|2919|-1||sequence_alteration|HGNC|34545|YES|||||||||||||||||||||||||||||||||||||||||,AGGAAGGAAGGAAGGAAGGAAGGA|downstream_gene_variant|MODIFIER|CFL1P6|ENSG00000215785|Transcript|ENST00000400899|processed_pseudogene|||||||||||3|2919|-1||sequence_alteration|HGNC|34545|YES|||||||||||||||||||||||||||||||||||||||||,AGGAAGGAAGGAAGGA|downstream_gene_variant|MODIFIER|CFL1P6|ENSG00000215785|Transcript|ENST00000400899|processed_pseudogene|||||||||||4|2919|-1||sequence_alteration|HGNC|34545|YES|||||||||||||||||||||||||||||||||||||||||,AGGAAGGAAGGAAGGAAGGA|downstream_gene_variant|MODIFIER|CFL1P6|ENSG00000215785|Transcript|ENST00000400899|processed_pseudogene|||||||||||5|2919|-1||sequence_alteration|HGNC|34545|YES|||||||||||||||||||||||||||||||||||||||||,-|downstream_gene_variant|MODIFIER|CFL1P6|ENSG00000215785|Transcript|ENST00000400899|processed_pseudogene|||||||||||6|2919|-1||sequence_alteration|HGNC|34545|YES|||||||||||||||||||||||||||||||||||||||||\n",
      "\n",
      "('GAGGAAGGAAGGA', 'GAGGAAGGA', 'GAGGAAGGAAGGAAGGAAGGAAGGA', 'GAGGAAGGAAGGAAGGA', 'GAGGAAGGAAGGAAGGAAGGA', 'G')\n",
      "GAGGA\n",
      "11048111\n",
      "11048116\n",
      "1\t11048116\trs6687030\tA\tG,*\t6477.89\tPASS\tAC=8,22;AF=0.004012,0.011;AN=1994;BaseQRankSum=0.546;ClippingRankSum=-0.546;DB;DP=31555;ExcessHet=0;FS=2.098;MLEAC=5,17;MLEAF=0.002508,0.008526;MQ=60;MQ0=0;MQRankSum=1.65;QD=25.4;ReadPosRankSum=-1.35;SOR=0.908;VQSLOD=9.82;culprit=MQ;AC_Het=6,8;AC_Hom=2,14;AC_Hemi=0,0;AN_Adj=1994;AN_KGA=1994;AC_Adj=8,22;AC_KGA=8,22;Hom_KGA=2,14;Het_KGA=6,8;Hemi_KGA=0,0;CSQ=G|downstream_gene_variant|MODIFIER|CFL1P6|ENSG00000215785|Transcript|ENST00000400899|processed_pseudogene||||||||||rs6687030|1|2919|-1||sequence_alteration|HGNC|34545|YES|||||||||||||||||||||||||||||||||||||||||\n",
      "\n",
      "('G', '*')\n",
      "A\n",
      "11048115\n",
      "11048116\n"
     ]
    }
   ],
   "source": [
    "import os \n",
    "from pysam import VariantFile\n",
    "\n",
    "\n",
    "os.chdir (\"/Volumes/Work_drive/prj/Rare_variants_atherosclerosis/data/swegen_20161223\")\n",
    "VCFin = VariantFile(\"anon-SweGen_STR_NSPHS_1000samples_freq_hg19.vcf.gz\")\n",
    "\n",
    "for rec in VCFin.fetch(\"1\",11048115, 11048116):\n",
    "    print (rec)\n",
    "    print (rec.alts)\n",
    "    print (rec.ref)\n",
    "    print (rec.start)\n",
    "    print (rec.stop)\n"
   ]
  },
  {
   "cell_type": "code",
   "execution_count": 19,
   "metadata": {},
   "outputs": [],
   "source": [
    "import os \n",
    "from pysam import VariantFile\n",
    "\n",
    "\n",
    "os.chdir (\"/Volumes/Work_drive/prj/BAV_TAV/data/raw_internal/SNP_calling/Individual_and_combined_VCFs/April_05\")\n",
    "VCFin = VariantFile(\"BAV2714_specific.vcf.gz\")\n",
    "\n",
    "for rec in VCFin.fetch(\"1\",1054445,1055125):\n",
    "    print (rec)\n",
    "    print (rec.alts)\n",
    "    print (rec.ref)\n",
    "    print (rec.start)\n",
    "    print (rec.stop)\n",
    "    print (rec.info[\"SwedFreq.AF\"])\n"
   ]
  },
  {
   "cell_type": "code",
   "execution_count": null,
   "metadata": {},
   "outputs": [],
   "source": []
  },
  {
   "cell_type": "code",
   "execution_count": null,
   "metadata": {},
   "outputs": [],
   "source": []
  },
  {
   "cell_type": "markdown",
   "metadata": {},
   "source": [
    "```\n",
    "awk '{if (NR ==1) print $0 ; if ( $11-$10 < 6500 && $12 < 5000000) print $0}' BAVTAV.Proximities.Probe_Distal_SP4_p01_either_sample.txt | head\n",
    "```\n",
    "\n",
    "4029152\n",
    "\n",
    "\n",
    "awk -F \"\\t\" -v OFS=\"\\t\" '{if (NR ==1) print $0 ; if ( $11-$10 >1 && $11-$10 < 6500 && sqrt($12*$12) < 2000000) print $0}' BAVTAV.Proximities.Probe_Distal_SP4_p01_either_sample.txt | sed '1d' |awk -v OFS=\"\\t\" -F \"\\t\" '{print $9,$10,$11}' > Interactors_atleast_one_sample.bed \n",
    "\n",
    "\n",
    "3951080\n",
    "\n",
    "sort -k 1,1 -k2,2n Interactors_atleast_one_sample.bed|uniq  > sorted_Interactors_atleast_one_sample.bed\n",
    "\n",
    "sort -k 1,1 -k2,2n Interactors_atleast_one_sample.bed|uniq -c  > stats_sorted_Interactors_atleast_one_sample.bed \n",
    "\n",
    "\n",
    "2222850 sorted_Interactors_atleast_one_sample.bed\n",
    "\n",
    "awk -F '\\t' -v OFS=\"\\t\" '{if (NR ==1) print $0 ; if ( $11-$10 >1 && $11-$10 < 6500 && sqrt($12*$12) < 2000000 && $13 >= 4 &&  $14 < 0.01  &&  $17 >  0.01 && $20 > 0.01 && $23 > 0.01  && $26  >  0.01  && $29 > 0.01 ) print $0}' BAVTAV.Proximities.Probe_Distal_SP4_p01_either_sample.txt  >  TAV2431_interaction_significant.txt\n",
    "\n",
    "\n",
    " awk -F '\\t' -v OFS=\"\\t\" '{if (NR ==1) print $0 ; if ( $11-$10 > 1 && $11-$10 < 6500 && sqrt($12*$12) < 2000000  &&  $14 > 0.01  &&  $16 >= 4 && $17 <  0.01 && $20 > 0.01 && $23 > 0.01  && $26  >  0.01  && $29 > 0.01 ) print $0}' BAVTAV.Proximities.Probe_Distal_SP4_p01_either_sample.txt  >  TAV2515_interaction_significant.txt\n",
    "\n",
    "\n",
    "awk -F '\\t' -v OFS=\"\\t\" '{if (NR ==1) print $0 ; if ( $11-$10 > 1 && $11-$10 < 6500 && sqrt($12*$12) < 2000000  &&  $14 > 0.01  &&  $17 >  0.01 && $19 >=4 &&  $20 < 0.01 && $23 > 0.01  && $26  >  0.01  && $29 > 0.01 ) print $0}' BAVTAV.Proximities.Probe_Distal_SP4_p01_either_sample.txt  >  TAV2709_interaction_significant.txt\n",
    "\n",
    " awk -F '\\t' -v OFS=\"\\t\" '{if (NR ==1) print $0 ; if ( $11-$10 > 1 && $11-$10 < 6500 && sqrt($12*$12) < 2000000  &&  $14 > 0.01  &&  $17 >  0.01 &&  $20 > 0.01 && $22 >=4 && $23 < 0.01  && $26  >  0.01  && $29 > 0.01 ) print $0}' BAVTAV.Proximities.Probe_Distal_SP4_p01_either_sample.txt  >  BAV2375_interaction_significant.txt\n",
    " \n",
    " \n"
   ]
  },
  {
   "cell_type": "code",
   "execution_count": 106,
   "metadata": {},
   "outputs": [
    {
     "data": {
      "text/plain": [
       "True"
      ]
     },
     "execution_count": 106,
     "metadata": {},
     "output_type": "execute_result"
    }
   ],
   "source": [
    " 0.0921597  > 0.01"
   ]
  },
  {
   "cell_type": "code",
   "execution_count": null,
   "metadata": {},
   "outputs": [],
   "source": []
  }
 ],
 "metadata": {
  "kernelspec": {
   "display_name": "Python [conda root]",
   "language": "python",
   "name": "conda-root-py"
  },
  "language_info": {
   "codemirror_mode": {
    "name": "ipython",
    "version": 3
   },
   "file_extension": ".py",
   "mimetype": "text/x-python",
   "name": "python",
   "nbconvert_exporter": "python",
   "pygments_lexer": "ipython3",
   "version": "3.6.6"
  }
 },
 "nbformat": 4,
 "nbformat_minor": 2
}
