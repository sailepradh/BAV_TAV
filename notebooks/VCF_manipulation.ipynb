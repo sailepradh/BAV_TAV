{
 "cells": [
  {
   "cell_type": "code",
   "execution_count": 19,
   "metadata": {},
   "outputs": [],
   "source": [
    "import sys\n",
    "import argparse\n",
    "import sys\n",
    "import re\n",
    "import os \n",
    "from pysam import VariantFile\n",
    "\n",
    "def vcf2DP(vcf_file_name,distal_test):\n",
    "    VCFin = VariantFile(vcf_file_name)\n",
    "    big_info = []\n",
    "    for rec in VCFin.fetch(distal_test[0],int(distal_test[1]), int(distal_test[2])):\n",
    "        #print (rec)\n",
    "        #print (rec.samples.keys())\n",
    "         \n",
    "        #print (rec.pos)\n",
    "        #print (rec.contig)\n",
    "        #print (rec.id)\n",
    "        #print (rec.alleles)\n",
    "        #combined_info.append(rec.contig)\n",
    "        #combined_info.append(rec.pos)\n",
    "        #combined_info.append(rec.id)\n",
    "        #combined_info.append(rec.alleles)\n",
    "        #print(len(rec.alleles[0]))\n",
    "        #print(len(rec.alleles[1]))\n",
    "        combined_info =[]\n",
    "        if len(rec.alleles[0]) ==1 and  len(rec.alleles[1]) ==1:\n",
    "            \n",
    "            combined_info.append(rec.contig)\n",
    "            combined_info.append(rec.pos)\n",
    "            combined_info.append(rec.id)\n",
    "            combined_info.append(rec.alleles)\n",
    "            combined_info.append(rec.filter.keys())\n",
    "            for test in rec.samples.values():\n",
    "            #print (test[\"GT\"])\n",
    "                combined_info.append(test[\"GT\"])\n",
    "            #print (test[\"AD\"])\n",
    "                combined_info.append(test[\"AD\"])\n",
    "            #print (test[\"DP\"])\n",
    "                combined_info.append(test[\"DP\"])\n",
    "            #print (test[\"GQ\"])\n",
    "            #print (test[\"PL\"])\n",
    "            #print (\"**\")\n",
    "        big_info.append(combined_info)\n",
    "    \n",
    "    big_info_corrected = [x for x in big_info if x != []]\n",
    "    return(big_info_corrected)"
   ]
  },
  {
   "cell_type": "markdown",
   "metadata": {},
   "source": [
    "bgzip -c TAV2709_snp_indel.recalibrated.vcf > TAV2709_snp_indel.recalibrated.vcf.gz\n",
    "tabix -p vcf TAV2709_snp_indel.recalibrated.vcf.gz\n"
   ]
  },
  {
   "cell_type": "code",
   "execution_count": 20,
   "metadata": {},
   "outputs": [
    {
     "name": "stdout",
     "output_type": "stream",
     "text": [
      "chr1\t1788102\t1792026\n",
      "\n",
      "chr1\t1788102\t1792026\n",
      "\n"
     ]
    }
   ],
   "source": [
    "path = \"/Volumes/Work_drive/prj/BAV_TAV/data/raw_internal/Interaction_callsFeb/Differential_Interaction\"\n",
    "os.chdir(path)\n",
    "\n",
    "bedFiles = \"sorted_uniq_PD_Interaction.bed\"\n",
    "\n",
    "\n",
    "\n",
    "\n",
    "distal_test = (\"chr1\", 2120236 ,2122591)\n",
    "#distal_test = (\"chr10\",101542054, 101542854 )\n",
    "\n",
    "fh = open (bedFiles, \"r\")\n",
    "for interactors in fh:\n",
    "    print (interactors)\n",
    "    distal_element = (interactors)\n",
    "    print (distal_element)\n",
    "    break\n",
    "fh.close()"
   ]
  },
  {
   "cell_type": "code",
   "execution_count": 21,
   "metadata": {
    "scrolled": false
   },
   "outputs": [
    {
     "name": "stdout",
     "output_type": "stream",
     "text": [
      "chr1\t1788102\t1792026\n",
      "\n",
      "TAV2431_snp_indel.recalibrated.vcf.gz\n",
      "[['chr1', 2120625, 'rs2503700', ('C', 'A'), ['PASS'], (1, 1), (0, 4), 4], ['chr1', 2121118, 'rs2503701', ('C', 'T'), ['PASS'], (1, 1), (0, 6), 6]]\n",
      "TAV2515_snp_indel.recalibrated.vcf.gz\n",
      "[['chr1', 2120625, 'rs2503700', ('C', 'A'), ['PASS'], (1, 1), (0, 15), 15], ['chr1', 2121118, 'rs2503701', ('C', 'T'), ['PASS'], (1, 1), (0, 10), 10]]\n",
      "TAV2709_snp_indel.recalibrated.vcf.gz\n",
      "[['chr1', 2120625, 'rs2503700', ('C', 'A'), ['PASS'], (1, 1), (0, 4), 4], ['chr1', 2121118, 'rs2503701', ('C', 'T'), ['LowQual'], (1, 1), (0, 1), 1]]\n",
      "BAV2375_snp_indel.recalibrated.vcf.gz\n",
      "[['chr1', 2120625, 'rs2503700', ('C', 'A'), ['PASS'], (0, 1), (21, 14), 35], ['chr1', 2121118, 'rs2503701', ('C', 'T'), ['PASS'], (0, 1), (4, 7), 11]]\n",
      "BAV2424_snp_indel.recalibrated.vcf.gz\n",
      "[['chr1', 2120625, 'rs2503700', ('C', 'A'), ['PASS'], (1, 1), (0, 18), 18], ['chr1', 2121118, 'rs2503701', ('C', 'T'), ['PASS'], (1, 1), (0, 8), 8]]\n",
      "BAV2714_snp_indel.recalibrated.vcf.gz\n",
      "[['chr1', 2120625, 'rs2503700', ('C', 'A'), ['PASS'], (1, 1), (0, 6), 6]]\n"
     ]
    }
   ],
   "source": [
    "path = \"/Volumes/Work_drive/prj/BAV_TAV/data/raw_internal/Interaction_callsFeb/SNVs/recalibrated_SNPs\"\n",
    "os.chdir(path)\n",
    "bedFiles = \"sorted_uniq_PD_Interaction.bed\"\n",
    "files = [\n",
    "        \"TAV2431_snp_indel.recalibrated.vcf.gz\", \n",
    "        \"TAV2515_snp_indel.recalibrated.vcf.gz\",\n",
    "        \"TAV2709_snp_indel.recalibrated.vcf.gz\",\n",
    "        \"BAV2375_snp_indel.recalibrated.vcf.gz\",\n",
    "        \"BAV2424_snp_indel.recalibrated.vcf.gz\",\n",
    "        \"BAV2714_snp_indel.recalibrated.vcf.gz\"\n",
    "        ]\n",
    "\n",
    "\n",
    "\n",
    "fh = open (bedFiles, \"r\")\n",
    "for interactors in fh:\n",
    "    distal_element = (interactors)\n",
    "    print (distal_element)\n",
    "    for file_name in files:\n",
    "        print (file_name)\n",
    "        combined = vcf2DP(file_name,distal_test)\n",
    "        print(combined)\n",
    "    \n",
    "    break\n",
    "fh.close()\n"
   ]
  },
  {
   "cell_type": "code",
   "execution_count": 10,
   "metadata": {},
   "outputs": [
    {
     "data": {
      "text/plain": [
       "[['chr10', 101542578, 'rs717620', ('C', 'T'), ['PASS'], (0, 1), (49, 52), 101]]"
      ]
     },
     "execution_count": 10,
     "metadata": {},
     "output_type": "execute_result"
    }
   ],
   "source": [
    "path = \"/Volumes/Work_drive/prj/BAV_TAV/data/raw_internal/Interaction_callsFeb/SNVs/recalibrated_SNPs\"\n",
    "os.chdir(path)\n",
    "distal_test = (\"chr10\",101542054, 101542854 )\n",
    "file_name = \"TAV2431_snp_indel.recalibrated.vcf.gz\"\n",
    "test = vcf2DP(file_name,distal_test)\n",
    "\n",
    "test"
   ]
  },
  {
   "cell_type": "code",
   "execution_count": null,
   "metadata": {},
   "outputs": [],
   "source": []
  },
  {
   "cell_type": "code",
   "execution_count": null,
   "metadata": {},
   "outputs": [],
   "source": []
  }
 ],
 "metadata": {
  "kernelspec": {
   "display_name": "Python 3",
   "language": "python",
   "name": "python3"
  },
  "language_info": {
   "codemirror_mode": {
    "name": "ipython",
    "version": 3
   },
   "file_extension": ".py",
   "mimetype": "text/x-python",
   "name": "python",
   "nbconvert_exporter": "python",
   "pygments_lexer": "ipython3",
   "version": "3.7.1"
  }
 },
 "nbformat": 4,
 "nbformat_minor": 2
}
