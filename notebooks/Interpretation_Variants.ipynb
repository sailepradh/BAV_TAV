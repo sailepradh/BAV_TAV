{
 "cells": [
  {
   "cell_type": "code",
   "execution_count": 12,
   "metadata": {},
   "outputs": [],
   "source": [
    "import argparse\n",
    "import sys\n",
    "import re\n",
    "import os \n",
    "from pysam import VariantFile\n",
    "\n",
    "path = \"/Volumes/Work_drive/prj/Rare_variants_atherosclerosis/data/swegen_20161223\"\n",
    "os.chdir(path)\n",
    "\n",
    "VCFin = VariantFile(\"SNP_VCF.gz\")\n",
    "\n",
    "count = 0 \n",
    "for rec in VCFin.fetch():\n",
    "    for rec_alt in rec.alts:\n",
    "        if len(rec_alt) == 1 and len(rec.ref) == 1: \n",
    "            count = count + 1\n",
    "    "
   ]
  },
  {
   "cell_type": "code",
   "execution_count": 9,
   "metadata": {},
   "outputs": [],
   "source": [
    "import argparse\n",
    "import sys\n",
    "import re\n",
    "import os \n",
    "from pysam import VariantFile\n",
    "\n",
    "\n",
    "path = \"/Volumes/Work_drive/prj/Rare_variants_atherosclerosis/data/swegen_20161223\"\n",
    "os.chdir(path)\n",
    "\n",
    "VCFin = VariantFile(\"SNP_VCF.gz\")\n",
    "\n",
    "count2 = 0 \n",
    "for rec in VCFin.fetch():\n",
    "    for rec_alt in rec.alts:\n",
    "        for freq in rec.info[\"AF\"]:\n",
    "            if len(rec_alt) == 1 and len(rec.ref) == 1 and freq < 0.001:\n",
    "                count2 = count2 +1 \n"
   ]
  },
  {
   "cell_type": "code",
   "execution_count": 13,
   "metadata": {},
   "outputs": [
    {
     "name": "stdout",
     "output_type": "stream",
     "text": [
      "25374219\n"
     ]
    }
   ],
   "source": [
    "print (count)"
   ]
  },
  {
   "cell_type": "code",
   "execution_count": 11,
   "metadata": {},
   "outputs": [
    {
     "name": "stdout",
     "output_type": "stream",
     "text": [
      "9785137\n"
     ]
    }
   ],
   "source": [
    "print (count2)"
   ]
  },
  {
   "cell_type": "code",
   "execution_count": 14,
   "metadata": {},
   "outputs": [
    {
     "data": {
      "text/plain": [
       "0.38563303170040425"
      ]
     },
     "execution_count": 14,
     "metadata": {},
     "output_type": "execute_result"
    }
   ],
   "source": [
    "9785137/25374219"
   ]
  },
  {
   "cell_type": "code",
   "execution_count": 15,
   "metadata": {},
   "outputs": [
    {
     "data": {
      "text/plain": [
       "0.005"
      ]
     },
     "execution_count": 15,
     "metadata": {},
     "output_type": "execute_result"
    }
   ],
   "source": [
    "0.5/100"
   ]
  },
  {
   "cell_type": "markdown",
   "metadata": {},
   "source": [
    "#### Estimation of enrichment of variants in BAV/TAV samples in comparision to global reference genome  and Swedish population at 0.05% variant frequency level.\n",
    "\n",
    "(https://www.nature.com/articles/nature15393)\n",
    "\n",
    "\n",
    "The majority of the variation in human genome are of low frequency ones with varianbt frequency <0.5% . Global reference of human genetic variation proposes  (40,000 to 200,000) i,e 1-4% at frequency <0.5%. \n",
    "\n",
    "So considering 4% as a base-line normaling factor we estimate the enrichment of rare variants (0.5%)on each samples as following:\n"
   ]
  },
  {
   "cell_type": "code",
   "execution_count": 16,
   "metadata": {},
   "outputs": [
    {
     "data": {
      "text/plain": [
       "1.5425"
      ]
     },
     "execution_count": 16,
     "metadata": {},
     "output_type": "execute_result"
    }
   ],
   "source": [
    "6.17/4"
   ]
  },
  {
   "cell_type": "code",
   "execution_count": null,
   "metadata": {},
   "outputs": [],
   "source": [
    "## TAV 2709\n",
    "7.025/4\n"
   ]
  },
  {
   "cell_type": "code",
   "execution_count": 12,
   "metadata": {},
   "outputs": [
    {
     "data": {
      "text/plain": [
       "1.975"
      ]
     },
     "execution_count": 12,
     "metadata": {},
     "output_type": "execute_result"
    }
   ],
   "source": [
    "## TAV 2515\n",
    "\n",
    "7.90 /4"
   ]
  },
  {
   "cell_type": "code",
   "execution_count": 7,
   "metadata": {},
   "outputs": [
    {
     "data": {
      "text/plain": [
       "1.69"
      ]
     },
     "execution_count": 7,
     "metadata": {},
     "output_type": "execute_result"
    }
   ],
   "source": [
    "#TAV2515\n",
    "\n",
    "6.76/4"
   ]
  },
  {
   "cell_type": "code",
   "execution_count": 15,
   "metadata": {},
   "outputs": [
    {
     "data": {
      "text/plain": [
       "1.9"
      ]
     },
     "execution_count": 15,
     "metadata": {},
     "output_type": "execute_result"
    }
   ],
   "source": [
    "## BAV2375\n",
    "\n",
    "7.60/4"
   ]
  },
  {
   "cell_type": "code",
   "execution_count": 8,
   "metadata": {},
   "outputs": [
    {
     "data": {
      "text/plain": [
       "1.975"
      ]
     },
     "execution_count": 8,
     "metadata": {},
     "output_type": "execute_result"
    }
   ],
   "source": [
    "## BAV 2424\n",
    "\n",
    "7.90 /4\n"
   ]
  },
  {
   "cell_type": "code",
   "execution_count": 14,
   "metadata": {},
   "outputs": [
    {
     "data": {
      "text/plain": [
       "1.89"
      ]
     },
     "execution_count": 14,
     "metadata": {},
     "output_type": "execute_result"
    }
   ],
   "source": [
    "## BAV 2714\n",
    "\n",
    "7.56/4"
   ]
  },
  {
   "cell_type": "code",
   "execution_count": 28,
   "metadata": {},
   "outputs": [
    {
     "name": "stdout",
     "output_type": "stream",
     "text": [
      "10\t116421687\trs11196844\tG\tT\t214.67\tPASS\tAC=2;AF=0.167;AN=12;AS_BaseQRankSum=.;AS_FS=0;AS_MQ=42;AS_MQRankSum=.;AS_QD=30.67;AS_ReadPosRankSum=.;AS_SOR=4.174;DB;DP=48;ExcessHet=0.202;FS=0;MLEAC=2;MLEAF=0.167;MQ=42;POSITIVE_TRAIN_SITE;QD=30.67;SOR=4.174;SwedFreq.AF=0.166;VQSLOD=5.02;culprit=SOR\tGT:AD:DP:GQ:PL\t0/0:16,0:16:45:0,45,675\t1/1:0,7:.:21:257,21,0\t0/0:5,0:5:12:0,12,180\t0/0:5,0:5:15:0,15,190\t0/0:7,0:7:21:0,21,250\t0/0:3,0:3:9:0,9,83\n",
      "\n",
      "10\t116421842\trs11196845\tT\tC\t1162.38\tPASS\tAC=2;AF=0.2;AN=10;AS_BaseQRankSum=.;AS_FS=0;AS_MQ=40.92;AS_MQRankSum=.;AS_QD=34.19;AS_ReadPosRankSum=.;AS_SOR=7.112;DB;DP=266;ExcessHet=0.2482;FS=0;MLEAC=2;MLEAF=0.2;MQ=32.67;POSITIVE_TRAIN_SITE;QD=34.19;SOR=7.112;SwedFreq.AF=0.152;VQSLOD=3.35;culprit=MQ\tGT:AD:DP:GQ:PL\t0/0:50,0:50:12:0,12,180\t1/1:0,34:.:99:1201,102,0\t0/0:28,0:28:3:0,3,45\t0/0:46,0:46:6:0,6,90\t0/0:56,0:56:9:0,9,135\t./.:31,0:31:.:0,0,0\n",
      "\n"
     ]
    }
   ],
   "source": [
    "import sys\n",
    "import argparse\n",
    "import sys\n",
    "import re\n",
    "import os \n",
    "from pysam import VariantFile\n",
    "\n",
    "path = \"/Volumes/Work_drive/prj/BAV_TAV/data/raw_internal/SNP_calling/Individual_and_combined_VCFs/April_05\"\n",
    "os.chdir(path)\n",
    "\n",
    "\n",
    "VCFin = VariantFile(\"Annotated_snp_indel.vcf.gz\")\n",
    "\n",
    "\n",
    "for rec in VCFin.fetch (\"10\",116420960,116421844):\n",
    "    print (rec)"
   ]
  },
  {
   "cell_type": "code",
   "execution_count": null,
   "metadata": {},
   "outputs": [],
   "source": [
    "samtools view -s 3.70 -b TAV2431_RNA.Aligned.sortedByCoord.out.bam  -o TAV2431_RNA.Aligned_75_subsample.sortedByCoord.out.bam "
   ]
  },
  {
   "cell_type": "markdown",
   "metadata": {},
   "source": [
    "### Test of variant and interaction frequency in BAV and TAV\n",
    "\n",
    "\n"
   ]
  },
  {
   "cell_type": "code",
   "execution_count": 22,
   "metadata": {},
   "outputs": [
    {
     "name": "stdout",
     "output_type": "stream",
     "text": [
      "10\t99903145\trs10736122\tG\tA\t945.76\tPASS\tAC=2;AF=0.167;AN=12;AS_BaseQRankSum=-2.9;AS_FS=0;AS_MQ=40;AS_MQRankSum=-2.6;AS_QD=12.96;AS_ReadPosRankSum=0.3;AS_SOR=0.446;BaseQRankSum=-1.697;DB;DP=186;ExcessHet=3.4242;FS=0;MLEAC=2;MLEAF=0.167;MQ=40.46;MQRankSum=-2.143;POSITIVE_TRAIN_SITE;QD=12.96;ReadPosRankSum=0.587;SOR=0.446;SwedFreq.AF=0.435;VQSLOD=5.99;culprit=SOR\tGT:AD:DP:GQ:PL\t0/1:22,20:.:99:549,0,742\t0/1:14,17:.:99:434,0,398\t0/0:19,0:19:57:0,57,581\t0/0:30,0:30:81:0,81,1215\t0/0:30,0:30:90:0,90,828\t0/0:10,0:10:30:0,30,412\n",
      "\n",
      "['GT', 'AD', 'DP', 'GQ', 'PL']\n",
      "(0, 1)\n",
      "['GT', 'AD', 'DP', 'GQ', 'PL']\n",
      "(0, 1)\n",
      "['GT', 'AD', 'DP', 'GQ', 'PL']\n",
      "(0, 0)\n",
      "['GT', 'AD', 'DP', 'GQ', 'PL']\n",
      "(0, 0)\n",
      "['GT', 'AD', 'DP', 'GQ', 'PL']\n",
      "(0, 0)\n",
      "['GT', 'AD', 'DP', 'GQ', 'PL']\n",
      "(0, 0)\n"
     ]
    }
   ],
   "source": [
    "import sys\n",
    "import argparse\n",
    "import re\n",
    "import os \n",
    "from pysam import VariantFile\n",
    "\n",
    "path = \"/Volumes/Work_drive/prj/BAV_TAV/data/raw_internal/SNP_calling/Individual_and_combined_VCFs/April_05\"\n",
    "os.chdir(path)\n",
    "\n",
    "\n",
    "VCFin = VariantFile(\"Annotated_snp_indel.vcf.gz\")\n",
    "\n",
    "for rec in VCFin.fetch (\"10\",99903136, 99903374):\n",
    "    print (rec)\n",
    "    for test in rec.samples.values():\n",
    "        \n",
    "        print (test.keys())\n",
    "        genotype = test[\"GT\"]\n",
    "        print (genotype)\n"
   ]
  },
  {
   "cell_type": "code",
   "execution_count": null,
   "metadata": {},
   "outputs": [],
   "source": []
  }
 ],
 "metadata": {
  "kernelspec": {
   "display_name": "Python [default]",
   "language": "python",
   "name": "python3"
  },
  "language_info": {
   "codemirror_mode": {
    "name": "ipython",
    "version": 3
   },
   "file_extension": ".py",
   "mimetype": "text/x-python",
   "name": "python",
   "nbconvert_exporter": "python",
   "pygments_lexer": "ipython3",
   "version": "3.6.6"
  }
 },
 "nbformat": 4,
 "nbformat_minor": 2
}
