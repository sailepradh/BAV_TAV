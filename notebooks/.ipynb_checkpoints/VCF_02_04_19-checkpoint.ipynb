{
 "cells": [
  {
   "cell_type": "code",
   "execution_count": 15,
   "metadata": {},
   "outputs": [],
   "source": [
    "import sys\n",
    "import argparse\n",
    "import sys\n",
    "import re\n",
    "import os \n",
    "from pysam import VariantFile\n",
    "\n",
    "\n",
    "def vcf2DP(vcf_file_name,distal_test):\n",
    "    \n",
    "    VCFin = VariantFile(vcf_file_name)\n",
    "    \n",
    "    BAV1= []\n",
    "    BAV2= []\n",
    "    BAV3= []\n",
    "    TAV1= []\n",
    "    TAV2= []\n",
    "    TAV3= []\n",
    "    \n",
    "    for rec in VCFin.fetch(distal_test[0],int(distal_test[1]), int(distal_test[2])):\n",
    "        if len(rec.alleles[0]) ==1 and  len(rec.alleles[1]) ==1:\n",
    "            combined_info =[]\n",
    "            \n",
    "            for test in rec.samples.values():    \n",
    "                AD_combo = \"/\".join([str(x) for x in test[\"AD\"]])\n",
    "                genotype_combo = \"/\".join([str(x) for x in test[\"GT\"]])\n",
    "                if genotype_combo == \"None/None\":\n",
    "                    genotype_combo = \"./.\"\n",
    "                if rec.id == None:\n",
    "                    rec.id = \"X\"\n",
    "                all_test = rec.contig+\"_\"+str(rec.pos)+\"_\"+rec.id+\"_\"+\"|\".join(rec.alleles)+\"_\"+genotype_combo+\"_\"+AD_combo\n",
    "                combined_info.append(all_test)\n",
    "                \n",
    "            BAV1.append(combined_info[0])\n",
    "            BAV2.append(combined_info[1])\n",
    "            BAV3.append(combined_info[2])\n",
    "            TAV1.append(combined_info[3])\n",
    "            TAV2.append(combined_info[4])\n",
    "            TAV3.append(combined_info[5])\n",
    "    return (BAV1,BAV2,BAV3,TAV1,TAV2,TAV3)"
   ]
  },
  {
   "cell_type": "code",
   "execution_count": 2,
   "metadata": {},
   "outputs": [],
   "source": [
    "#distal_test = ('chr1',201525520, 201526058)"
   ]
  },
  {
   "cell_type": "code",
   "execution_count": 3,
   "metadata": {},
   "outputs": [],
   "source": [
    "#path = \"//Volumes/Work_drive/prj/BAV_TAV/data/raw_internal/SNP_calling/Individual_and_combined_VCFs\"\n",
    "#os.chdir(path)\n",
    "\n",
    "#file =' BAV_all_combined.vcf.gz'\n",
    "\n",
    "#vcf2DP(file, distal_test)"
   ]
  },
  {
   "cell_type": "code",
   "execution_count": 16,
   "metadata": {},
   "outputs": [],
   "source": [
    "path = \"/Volumes/Work_drive/prj/BAV_TAV/data/raw_internal/SNP_calling/Individual_and_combined_VCFs\"\n",
    "os.chdir(path)\n",
    "\n",
    "file ='BAV_all_combined.vcf.gz'\n",
    "\n",
    "bedFiles = \"BAV_PD.bed\"\n",
    "f_r = open (bedFiles, \"r\")\n",
    "\n",
    "collector = 0\n",
    "for interactors in f_r:\n",
    "    line = interactors.strip().split(\"\\t\")\n",
    "    distal_element = (line[0], int(line[1]), int(line[2]))    \n",
    "    #print (distal_element)\n",
    "    a,b,c,d,e,f = vcf2DP(file, distal_element)\n",
    "    if len(a) > 0:\n",
    "        num = len(a)\n",
    "        collector = collector+num\n",
    "  "
   ]
  },
  {
   "cell_type": "code",
   "execution_count": 17,
   "metadata": {},
   "outputs": [
    {
     "data": {
      "text/plain": [
       "101"
      ]
     },
     "execution_count": 17,
     "metadata": {},
     "output_type": "execute_result"
    }
   ],
   "source": [
    "collector"
   ]
  },
  {
   "cell_type": "code",
   "execution_count": 78,
   "metadata": {},
   "outputs": [
    {
     "name": "stdout",
     "output_type": "stream",
     "text": [
      "16361\n"
     ]
    }
   ],
   "source": [
    "import sys\n",
    "import argparse\n",
    "import sys\n",
    "import re\n",
    "import os \n",
    "from pysam import VariantFile\n",
    "\n",
    "path = \"/Volumes/Work_drive/prj/BAV_TAV/data/raw_internal/SNP_calling/Individual_and_combined_VCFs\"\n",
    "os.chdir(path)\n",
    "\n",
    "file ='BAV_all_combined.vcf.gz'\n",
    "VCFin = VariantFile(file)\n",
    "\n",
    "geno_position = []\n",
    "for rec in VCFin:\n",
    "    if rec.id== None:\n",
    "        rec.id = \"X\"\n",
    "    combo=rec.chrom[3:],rec.start,rec.stop\n",
    "    geno_position.append (combo)\n",
    "\n",
    "print (len(geno_position))\n",
    "\n",
    "os.chdir (\"/Volumes/Work_drive/prj/Rare_variants_atherosclerosis/data/swegen_20161223\")\n",
    "VCFin = VariantFile(\"anon-SweGen_STR_NSPHS_1000samples_freq_hg19.vcf.gz\")\n",
    "\n",
    "freq_dict = {}\n",
    "\n",
    "for postion in geno_position:\n",
    "\n",
    "    for rec in VCFin.fetch(postion[0], int(postion[1]), int(postion[2])):\n",
    "        \n",
    "        freq_keys = \"chr\"+postion[0], int(postion[1]), int(postion[2])\n",
    "        freq_values = freq_dict.get(freq_keys,[])\n",
    "        \n",
    "        ref_alleles = rec.ref\n",
    "        alt_alleles = rec.alts\n",
    "        ids = rec.id\n",
    "        \n",
    "        if ids == None:\n",
    "            ids = \"X\"\n",
    "        freqz = rec.info[\"AF\"]\n",
    "        \n",
    "        if rec.start == int(postion[1]) and rec.stop == int(postion[2]):\n",
    "            combo_info = ids+\":\"+ref_alleles+\":\"+\",\".join(alt_alleles)+\":\"+\",\".join(str(x) for x in freqz)\n",
    "            freq_values.append(combo_info)\n",
    "            freq_dict[freq_keys] = freq_values"
   ]
  },
  {
   "cell_type": "code",
   "execution_count": 79,
   "metadata": {},
   "outputs": [
    {
     "name": "stdout",
     "output_type": "stream",
     "text": [
      "14035\n",
      "2326\n"
     ]
    }
   ],
   "source": [
    "Swed_freq = list(freq_dict.keys())\n",
    "print (len(Swed_freq))\n",
    "\n",
    "private_freq = []\n",
    "\n",
    "for position in geno_position:\n",
    "    alt_pos = \"chr\"+position[0],position[1],position[2]\n",
    "    if alt_pos not in Swed_freq:\n",
    "        private_freq.append(alt_pos)\n",
    "print(len(private_freq))  "
   ]
  },
  {
   "cell_type": "code",
   "execution_count": 102,
   "metadata": {},
   "outputs": [
    {
     "name": "stdout",
     "output_type": "stream",
     "text": [
      "rs942819\n"
     ]
    }
   ],
   "source": [
    "for k,v in freq_dict.items():\n",
    "    #tst = v.strip().split(\":\")\n",
    "\n",
    "    for x in v:\n",
    "        y = x.split(\":\")\n",
    "        print (y)\n",
    "\n",
    "    break"
   ]
  },
  {
   "cell_type": "code",
   "execution_count": 75,
   "metadata": {},
   "outputs": [
    {
     "name": "stdout",
     "output_type": "stream",
     "text": [
      "1\t41409640\trs55999185\tTG\tT\t252869\tPASS\tAC=743;AF=0.372;AN=1998;BaseQRankSum=0.451;ClippingRankSum=0;DB;DP=29597;ExcessHet=7.3262;FS=3.234;InbreedingCoeff=-0.0289;MLEAC=745;MLEAF=0.373;MQ=60.77;MQ0=0;MQRankSum=0.512;QD=15.31;ReadPosRankSum=-0.339;SOR=0.954;VQSLOD=0.573;culprit=FS;AC_Het=479;AC_Hom=264;AC_Hemi=0;AN_Adj=1998;AN_KGA=1998;AC_Adj=743;AC_KGA=743;Hom_KGA=264;Het_KGA=479;Hemi_KGA=0;CSQ=-|upstream_gene_variant|MODIFIER|UBE2V1P8|ENSG00000233118|Transcript|ENST00000437166|processed_pseudogene||||||||||rs55999185&rs66949848|1|1454|-1||deletion|HGNC|44893|YES|||||||||||||-:0.3934|-:0.2602|-:0.6023|-:0.37|-:0.4264|-:0.4151|||||||||||||||||||||||,-|upstream_gene_variant|MODIFIER|RP11-348A7.1|ENSG00000228940|Transcript|ENST00000413739|unprocessed_pseudogene||||||||||rs55999185&rs66949848|1|4206|-1||deletion|Clone_based_vega_gene||YES|||||||||||||-:0.3934|-:0.2602|-:0.6023|-:0.37|-:0.4264|-:0.4151|||||||||||||||||||||||,-|regulatory_region_variant|MODIFIER|||RegulatoryFeature|ENSR00000535181|promoter_flanking_region||||||||||rs55999185&rs66949848|1||||deletion||||||||||||||||-:0.3934|-:0.2602|-:0.6023|-:0.37|-:0.4264|-:0.4151|||||||||||||||||||||||\n",
      "\n",
      "('T',)\n",
      "TG\n",
      "41409639\n",
      "41409641\n",
      "1\t41409641\t.\tGT\tTT,*,GTT,G\t252694\tPASS\tAC=24,706,1,1;AF=0.012,0.353,0.0005005,0.0005005;AN=1998;BaseQRankSum=0.586;ClippingRankSum=-0.087;DP=29485;ExcessHet=12.3423;FS=4.06;MLEAC=23,706,1,1;MLEAF=0.012,0.353,0.0005005,0.0005005;MQ=60;MQ0=0;MQRankSum=-0.039;QD=15.34;ReadPosRankSum=-0.579;SOR=0.96;VQSLOD=0.245;culprit=FS;AC_Het=24,460,1,1;AC_Hom=0,246,0,0;AC_Hemi=0,0,0,0;AN_Adj=1998;AN_KGA=1998;AC_Adj=24,706,1,1;AC_KGA=24,706,1,1;Hom_KGA=0,246,0,0;Het_KGA=24,460,1,1;Hemi_KGA=0,0,0,0;CSQ=TT|upstream_gene_variant|MODIFIER|UBE2V1P8|ENSG00000233118|Transcript|ENST00000437166|processed_pseudogene|||||||||||1|1454|-1||sequence_alteration|HGNC|44893|YES|||||||||||||||||||||||||||||||||||||||||,GTT|upstream_gene_variant|MODIFIER|UBE2V1P8|ENSG00000233118|Transcript|ENST00000437166|processed_pseudogene|||||||||||3|1454|-1||sequence_alteration|HGNC|44893|YES|||||||||||||||||||||||||||||||||||||||||,G|upstream_gene_variant|MODIFIER|UBE2V1P8|ENSG00000233118|Transcript|ENST00000437166|processed_pseudogene|||||||||||4|1454|-1||sequence_alteration|HGNC|44893|YES|||||||||||||||||||||||||||||||||||||||||,TT|upstream_gene_variant|MODIFIER|RP11-348A7.1|ENSG00000228940|Transcript|ENST00000413739|unprocessed_pseudogene|||||||||||1|4206|-1||sequence_alteration|Clone_based_vega_gene||YES|||||||||||||||||||||||||||||||||||||||||,GTT|upstream_gene_variant|MODIFIER|RP11-348A7.1|ENSG00000228940|Transcript|ENST00000413739|unprocessed_pseudogene|||||||||||3|4206|-1||sequence_alteration|Clone_based_vega_gene||YES|||||||||||||||||||||||||||||||||||||||||,G|upstream_gene_variant|MODIFIER|RP11-348A7.1|ENSG00000228940|Transcript|ENST00000413739|unprocessed_pseudogene|||||||||||4|4206|-1||sequence_alteration|Clone_based_vega_gene||YES|||||||||||||||||||||||||||||||||||||||||,TT|regulatory_region_variant|MODIFIER|||RegulatoryFeature|ENSR00000535181|promoter_flanking_region|||||||||||1||||sequence_alteration||||||||||||||||||||||||||||||||||||||||||||,GTT|regulatory_region_variant|MODIFIER|||RegulatoryFeature|ENSR00000535181|promoter_flanking_region|||||||||||3||||sequence_alteration||||||||||||||||||||||||||||||||||||||||||||,G|regulatory_region_variant|MODIFIER|||RegulatoryFeature|ENSR00000535181|promoter_flanking_region|||||||||||4||||sequence_alteration||||||||||||||||||||||||||||||||||||||||||||\n",
      "\n",
      "('TT', '*', 'GTT', 'G')\n",
      "GT\n",
      "41409640\n",
      "41409642\n"
     ]
    }
   ],
   "source": [
    "import os \n",
    "from pysam import VariantFile\n",
    "\n",
    "\n",
    "os.chdir (\"/Volumes/Work_drive/prj/Rare_variants_atherosclerosis/data/swegen_20161223\")\n",
    "VCFin = VariantFile(\"anon-SweGen_STR_NSPHS_1000samples_freq_hg19.vcf.gz\")\n",
    "\n",
    "for rec in VCFin.fetch(\"1\",41409639, 41409641):\n",
    "    print (rec)\n",
    "    print (rec.alts)\n",
    "    print (rec.ref)\n",
    "    print (rec.start)\n",
    "    print (rec.stop)\n"
   ]
  },
  {
   "cell_type": "code",
   "execution_count": 77,
   "metadata": {},
   "outputs": [
    {
     "name": "stdout",
     "output_type": "stream",
     "text": [
      "chr1\t41409640\trs55999185\tTG\tT\t376.04\tPASS\tAC=3;AF=0.25;AN=12;AS_BaseQRankSum=-1;AS_FS=2.325;AS_MQ=35.8;AS_MQRankSum=-2.4;AS_QD=9.17;AS_ReadPosRankSum=-0.8;AS_SOR=0.25;BaseQRankSum=-0.258;DB;DP=160;ExcessHet=0.6367;FS=2.325;MLEAC=3;MLEAF=0.25;MQ=38.25;MQRankSum=-1.877;QD=9.17;ReadPosRankSum=-0.385;SOR=0.25;VQSLOD=1.35;culprit=FS\tGT:AD:DP:GQ:PGT:PID:PL\t1/1:3,19:.:17:1|1:41409639_TTG_T:337,17,0\t0/1:14,5:.:93:0|1:41409640_TG_T:93,0,528\t0/0:17,0:17:30:.:.:0,30,450\t0/0:13,1:.:23:.:.:0,23,437\t0/0:28,0:28:63:.:.:0,63,945\t0/0:20,0:20:48:.:.:0,48,720\n",
      "\n",
      "('T',)\n",
      "TG\n",
      "41409639\n",
      "41409641\n"
     ]
    }
   ],
   "source": [
    "import os \n",
    "from pysam import VariantFile\n",
    "\n",
    "\n",
    "os.chdir (\"/Volumes/Work_drive/prj/BAV_TAV/data/raw_internal/SNP_calling/Individual_and_combined_VCFs\")\n",
    "VCFin = VariantFile(\"BAV_all_combined.vcf.gz\")\n",
    "\n",
    "for rec in VCFin.fetch(\"chr1\",41409639, 41409641):\n",
    "    print (rec)\n",
    "    print (rec.alts)\n",
    "    print (rec.ref)\n",
    "    print (rec.start)\n",
    "    print (rec.stop)\n"
   ]
  },
  {
   "cell_type": "code",
   "execution_count": null,
   "metadata": {},
   "outputs": [],
   "source": []
  },
  {
   "cell_type": "code",
   "execution_count": null,
   "metadata": {},
   "outputs": [],
   "source": []
  },
  {
   "cell_type": "markdown",
   "metadata": {},
   "source": [
    "```\n",
    "awk '{if (NR ==1) print $0 ; if ( $11-$10 < 6500 && $12 < 5000000) print $0}' BAVTAV.Proximities.Probe_Distal_SP4_p01_either_sample.txt | head\n",
    "```\n",
    "\n",
    "4029152\n",
    "\n",
    "\n",
    "awk -v OFS=\"\\t\" '{if (NR ==1) print $0 ; if ( $11-$10 < 6500 && $12 < 2000000) print $0}' BAVTAV.Proximities.Probe_Distal_SP4_p01_either_sample.txt | sed '1d' |awk -v OFS=\"\\t\" '{print $9,$10,$11}' > Interactors_atleast_one_sample.bed \n",
    "\n",
    "\n",
    "3951080\n",
    "\n",
    "sort -k 1,1 -k2,2n Interactors_atleast_one_sample.bed|uniq  > sorted_Interactors_atleast_one_sample.bed\n",
    "\n",
    "sort -k 1,1 -k2,2n Interactors_atleast_one_sample.bed|uniq -c  > stats_sorted_Interactors_atleast_one_sample.bed \n",
    "\n",
    "\n",
    "2222850 sorted_Interactors_atleast_one_sample.bed\n"
   ]
  },
  {
   "cell_type": "code",
   "execution_count": null,
   "metadata": {},
   "outputs": [],
   "source": []
  }
 ],
 "metadata": {
  "kernelspec": {
   "display_name": "Python [conda root]",
   "language": "python",
   "name": "conda-root-py"
  },
  "language_info": {
   "codemirror_mode": {
    "name": "ipython",
    "version": 3
   },
   "file_extension": ".py",
   "mimetype": "text/x-python",
   "name": "python",
   "nbconvert_exporter": "python",
   "pygments_lexer": "ipython3",
   "version": "3.6.6"
  }
 },
 "nbformat": 4,
 "nbformat_minor": 2
}
