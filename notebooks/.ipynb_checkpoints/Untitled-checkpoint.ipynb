{
 "cells": [
  {
   "cell_type": "markdown",
   "metadata": {},
   "source": [
    "#### Stiching the DL_results from the earlier table"
   ]
  },
  {
   "cell_type": "code",
   "execution_count": 3,
   "metadata": {},
   "outputs": [
    {
     "name": "stdout",
     "output_type": "stream",
     "text": [
      "['RefSeqName', 'TranscriptName', 'Feature_ID', 'Feature_Chr', 'Feature_Start', 'Feature_End', 'Annotation', 'Strand', 'Interactor_Chr', 'Interactor_Start', 'Interactor_End', 'width', 'distance', 'X20HEKa_SuppPairs', 'X20HEKa_p_value', 'X20HEKa_StrandCombination', 'X23HEKa_SuppPairs', 'X23HEKa_p_value', 'X23HEKa_StrandCombination', 'X27HEKa_SuppPairs', 'X27HEKa_p_value', 'X27HEKa_StrandCombination', 'X30HEKa_SuppPairs', 'X30HEKa_p_value', 'X30HEKa_StrandCombination', 'X33HEKa_SuppPairs', 'X33HEKa_p_value', 'X33HEKa_StrandCombination', 'X37HEKa_SuppPairs', 'X37HEKa_p_value', 'X37HEKa_StrandCombination', 'IntCode', 'peak0', 'peak3', 'peak7', 'dp03', 'dp07', 'dp37', 'exp0', 'exp3', 'exp7', 'de03fc', 'de07fc', 'de37fc', 'de03p', 'de07p', 'de37p', 'DE_GENE?', 'dnase', 'histone_details', 'tf_details', 'InHouse_PeakOverlap?']\n"
     ]
    }
   ],
   "source": [
    "import os\n",
    "os.chdir (\"/Volumes/Work_drive/prj/EZA\")\n",
    "\n",
    "interaction_file = \"PD_GP_int.txt\"\n",
    "\n",
    "with open (interaction_file, \"r\") as probe:\n",
    "    for lines in probe:\n",
    "        line = lines.strip().split(\"\\t\")\n",
    "        print(line)\n",
    "        break"
   ]
  },
  {
   "cell_type": "code",
   "execution_count": null,
   "metadata": {},
   "outputs": [],
   "source": []
  }
 ],
 "metadata": {
  "kernelspec": {
   "display_name": "Python [default]",
   "language": "python",
   "name": "python3"
  },
  "language_info": {
   "codemirror_mode": {
    "name": "ipython",
    "version": 3
   },
   "file_extension": ".py",
   "mimetype": "text/x-python",
   "name": "python",
   "nbconvert_exporter": "python",
   "pygments_lexer": "ipython3",
   "version": "3.6.6"
  }
 },
 "nbformat": 4,
 "nbformat_minor": 2
}
