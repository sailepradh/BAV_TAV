{
 "cells": [
  {
   "cell_type": "markdown",
   "metadata": {},
   "source": [
    "## March 03 2019\n",
    "\n",
    "\n",
    "* Ideas that was floated in the meeting was pertinent and more relevant \n",
    "    * GO analysis on PP dataset as well with PD TAV sets \n",
    "    * PP dataset analysis with more analytic approach\n",
    "    * Annotating the Distal element of PD interaction with TFs, Histone modifications and SNPs\n",
    "    * Allele specific interaction in PD and PP\n",
    "   \n",
    "* Make a universal table of PD Table with all the functional element added\n",
    "* EndoMT transitions in both Biscupid aortic valve and Tricuspid aortic valve"
   ]
  },
  {
   "cell_type": "markdown",
   "metadata": {},
   "source": [
    "### ROADMAP FOR BAV-TAV DATA ANALYSIS\n",
    "\n",
    "* Get all the PD with pvalue < 0.05 , length < = 10kb.\n",
    "\n",
    "* Annontate these dataset with Differential interaction, Differentially expressed genes and Differential H3K27ac peaks.\n",
    "\n",
    "* Populate this dataset with CTCF, (Other Cardiac specific)Transcription factor and DNAise HS from ENCODE, ROADMAP Epigenetics and FATHOM dataset from Aortic Endothelail cells \n",
    "\n",
    "* Find the Transcription factor binding sites (TFBS) in these regions\n",
    "\n",
    "* Annotate with the phased single nucleotide polymorphism (SNP)  and CNVs from these samples in these regions\n",
    "\n",
    "* Topological associated domains  (maybe)"
   ]
  },
  {
   "cell_type": "markdown",
   "metadata": {},
   "source": [
    "## TASKS \n",
    "\n",
    "#### * Make a script that takes all of the interaction dataset (PD) ana adds column with RNAseq and CHipseq data to the existing table.\n",
    "\n",
    "#### * Do diffchipseq and diffExpr in each conditions\n",
    "\n",
    "#### * Add these results to the PD table\n"
   ]
  },
  {
   "cell_type": "markdown",
   "metadata": {},
   "source": [
    "#### TASK 1 pseudo codes\n",
    "\n",
    "\n",
    "* Read PD table in python \n",
    "* Make a dictionary based on gene \n",
    "* Read Expression files in same dataset\n"
   ]
  },
  {
   "cell_type": "code",
   "execution_count": 5,
   "metadata": {},
   "outputs": [],
   "source": [
    "def int_dict_pd(file):\n",
    "    \"\"\"\n",
    "        This function takes the interaction file of promoter distal interaction and returns dictionary of gene name as \n",
    "        the key and transcript_Id, distal chromosome position, as the list.\n",
    "        \n",
    "        file = interaction file from HiCap runs with RefSeqName as the gene_ID, TranscriptName as transcript_ID\n",
    "    \n",
    "    \"\"\"\n",
    "    results_interaction = {}\n",
    "    with open (file, 'r') as int_files:\n",
    "        next(int_files)\n",
    "        \n",
    "        for lines in int_files:\n",
    "            line = lines.strip()\n",
    "            fields = line.split(\"\\t\")\n",
    "            if fields[11] == \"-1\":\n",
    "                pass\n",
    "            else:\n",
    "                interaction_genes = fields[0]\n",
    "                interaction_status_genes = results_interaction.get(interaction_genes,[])\n",
    "                interaction_status_genes.append([fields[1], fields[8], fields[9], fields[10], fields[11]])\n",
    "                results_interaction[interaction_genes] = interaction_status_genes\n",
    "    return (results_interaction)"
   ]
  },
  {
   "cell_type": "code",
   "execution_count": 6,
   "metadata": {},
   "outputs": [
    {
     "name": "stdout",
     "output_type": "stream",
     "text": [
      "['BAV2375_RNA.gene_abund.tab', 'BAV2424_RNA.gene_abund.tab', 'TAV2431_RNA.gene_abund.tab', 'TAV2515_RNA.gene_abund.tab']\n",
      "['TAV2431_RNA.gene_abund.tab', 'TAV2515_RNA.gene_abund.tab', 'BAV2375_RNA.gene_abund.tab', 'BAV2424_RNA.gene_abund.tab']\n"
     ]
    }
   ],
   "source": [
    "## Testing for the *.tab files output from stringtie\n",
    "\n",
    "import os\n",
    "import glob\n",
    "\n",
    "os.chdir(\"/Volumes/Work_drive/prj/BAV_TAV/data/raw_internal/RNA_data\")\n",
    "stringtie_output = glob.glob('*.tab')\n",
    "\n",
    "print(stringtie_output)\n",
    "myorder = [2,3,0,1]\n",
    "stringtie_output_sorted = [str(stringtie_output[i]) for i in myorder]\n",
    "print(stringtie_output_sorted)\n",
    "\n",
    "all_combnined = {}\n",
    "\n",
    "for i in stringtie_output_sorted:\n",
    "    with open (i, 'r') as tabfiles:\n",
    "        next(tabfiles)\n",
    "        \n",
    "        expression_genes = {}\n",
    "        \n",
    "        for lines in tabfiles:\n",
    "            line = lines.strip().split(\"\\t\")\n",
    "            genes_ID = line[1]\n",
    "            val_FPKM = expression_genes.get(genes_ID,[])\n",
    "            val = line[-2]\n",
    "            val_FPKM.append(val)\n",
    "            expression_genes[genes_ID] = val_FPKM\n",
    "                \n",
    "        for keys, value in expression_genes.items():\n",
    "            genes_ID = keys\n",
    "            val = all_combnined.get(genes_ID,[])\n",
    "            val.append(value)\n",
    "            all_combnined[genes_ID] = val\n",
    "            "
   ]
  },
  {
   "cell_type": "code",
   "execution_count": 7,
   "metadata": {},
   "outputs": [
    {
     "data": {
      "text/plain": [
       "['DDX11L1', 'WASH7P', 'MIR1302-2HG', 'RP11-34P13.7', 'RP11-34P13.8']"
      ]
     },
     "execution_count": 7,
     "metadata": {},
     "output_type": "execute_result"
    }
   ],
   "source": [
    "list (all_combnined.keys()) [0:5]"
   ]
  },
  {
   "cell_type": "code",
   "execution_count": null,
   "metadata": {},
   "outputs": [],
   "source": [
    "import os \n",
    "os.chdir (\"/Volumes/Work_drive/prj/BAV_TAV/data/raw_internal/Interaction_march_corrected/\")\n",
    "\n",
    "\n",
    "fh = open(\"Probe_Distal_BAVTAV.filtered_expression.txt\", \"w\")\n",
    "\n",
    "with open (\"BAVTAV.Proximities.Probe_Distal_SP4_p01_filtered.txt\", 'r') as Int:\n",
    "    for lines in Int:  \n",
    "        if lines.startswith('RefSeqName'):\n",
    "            line = lines.strip().split(\"\\t\")\n",
    "            line.append ('width')\n",
    "            line.append ('TAV2431_FPKMS')\n",
    "            line.append ('TAV2515_FPKMS')\n",
    "            line.append ('BAV2375_FPKMS')\n",
    "            line.append ('BAV2424_FPKMS')\n",
    "            #print (line)\n",
    "            \n",
    "            fh.write(\"\\t\".join(line))\n",
    "            fh.write (\"\\n\")\n",
    "            continue\n",
    "            \n",
    "        else:\n",
    "            line = lines.strip().split(\"\\t\")\n",
    "            wdth = int(line[10]) - int(line[9])\n",
    "            dst = abs(int(line[11]))\n",
    "            line.append(str(wdth))\n",
    "            Expr_Genes = list (all_combnined.keys())\n",
    "            \n",
    "            \n",
    "            if wdth < 5000 and dst < 5000000:\n",
    "                if line[0] in Expr_Genes:\n",
    "                    \n",
    "                    for i  in all_combnined[line[0]]:\n",
    "                        ind_exps = \",\".join(i)\n",
    "                        line.append (ind_exps )\n",
    "                    fh.write(\"\\t\".join(line))\n",
    "                    fh.write (\"\\n\")\n",
    "                \n",
    "                else:\n",
    "                    line.append(\"-1\")\n",
    "                    line.append(\"-1\")\n",
    "                    line.append(\"-1\")\n",
    "                    line.append(\"-1\")\n",
    "                    fh.write(\"\\t\".join(line))\n",
    "                    fh.write (\"\\n\")\n",
    "                    \n",
    "            \n",
    "fh.close()"
   ]
  },
  {
   "cell_type": "code",
   "execution_count": null,
   "metadata": {},
   "outputs": [],
   "source": []
  }
 ],
 "metadata": {
  "kernelspec": {
   "display_name": "Python [default]",
   "language": "python",
   "name": "python3"
  },
  "language_info": {
   "codemirror_mode": {
    "name": "ipython",
    "version": 3
   },
   "file_extension": ".py",
   "mimetype": "text/x-python",
   "name": "python",
   "nbconvert_exporter": "python",
   "pygments_lexer": "ipython3",
   "version": "3.6.6"
  }
 },
 "nbformat": 4,
 "nbformat_minor": 2
}
