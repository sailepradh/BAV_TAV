{
 "cells": [
  {
   "cell_type": "code",
   "execution_count": 20,
   "metadata": {},
   "outputs": [],
   "source": [
    "import numpy as np\n",
    "import pandas as pd\n",
    "import sys\n",
    "import matplotlib.mlab as mlab\n",
    "import matplotlib.pyplot as plt\n",
    "\n",
    "\n",
    "path = \"/Volumes/Work_drive/prj/BAV_TAV/data/raw_internal/Interaction_callsFeb/\"\n",
    "\n",
    "in_file = path+\"BAVTAV.Proximities.Probe_probe_SP4_p001_filtered.txt\"\n",
    "out_file = path+\"BAVTAV.Proximities_SP4_p001_filtered.txt\" \n",
    "\n",
    "\n",
    "dict_PP = {}\n",
    "with open (in_file, 'r') as interaction:\n",
    "    next(interaction)\n",
    "    for lines in interaction:\n",
    "        line = lines.strip().split(\"\\t\")\n",
    "        \n",
    "        dist = line[16]\n",
    "        \n",
    "        uniq = line[2]+line[10]\n",
    "        sorted_uniq = ''.join(sorted(uniq))\n",
    "        testing = dict_PP.get(sorted_uniq,'')\n",
    "        genes = line[2], line [10], line[16],line[17], line [20], line[23], line[26],line[29], line[32]\n",
    "            #testing.append(genes)\n",
    "        dict_PP[sorted_uniq] = genes\n",
    "\n",
    "        #if int(dist) < 2000000:\n",
    "            \n",
    "\n",
    "fh = open(out_file, \"w\")           \n",
    "for k, v in dict_PP.items():\n",
    "    fh.write(k+\"\\t\"+\"\\t\".join(v))\n",
    "    fh.write(\"\\n\")\n",
    "fh.close()"
   ]
  },
  {
   "cell_type": "code",
   "execution_count": 21,
   "metadata": {},
   "outputs": [
    {
     "name": "stdout",
     "output_type": "stream",
     "text": [
      "00111111223444455589ABCCEILNR__ ('ERLIN1_101945814', 'ABCC2_101542354', '403460', '107', '47', '41', '89', '60', '30')\n"
     ]
    }
   ],
   "source": [
    "for k, v in dict_PP.items():\n",
    "    print (k,v)\n",
    "    break"
   ]
  },
  {
   "cell_type": "code",
   "execution_count": 22,
   "metadata": {},
   "outputs": [],
   "source": [
    "dE_files_PP = path+\"/DL_Loop_all.tsv\"\n",
    "#print (dE_files_PP)\n",
    "\n",
    "dE_loop_PP = {}\n",
    "\n",
    "with open (dE_files_PP, 'r') as PP_loops:\n",
    "    next(PP_loops)\n",
    "    for lines in PP_loops:\n",
    "        line = lines.strip().split(\"\\t\")\n",
    "        if line[0] in dict_PP.keys():\n",
    "            #print (\"\\t\".join(dict_PP[line[0]]))\n",
    "            a = dict_PP[line[0]][1]\n",
    "            b = dict_PP[line[0]][0]\n",
    "            identifier = line [0]\n",
    "            other_things = [line[10],line[11], line[12], line[13], line[14], line[3]]\n",
    "            other_things.append(a)\n",
    "            other_things.append(b)\n",
    "            dE_loop_PP[identifier] = other_things"
   ]
  },
  {
   "cell_type": "code",
   "execution_count": 23,
   "metadata": {},
   "outputs": [
    {
     "name": "stdout",
     "output_type": "stream",
     "text": [
      "--..000001111111111222223334556666688IMPPRR__ ['0.796543204054718', '-2.02523092948746', '2.50117567635974', '0.113761344549213', '0.947223159107962', '206382', 'RP11-240M16.1_138266502', 'RP11-356I2.1_138060120']\n"
     ]
    }
   ],
   "source": [
    "for k, v in dE_loop_PP.items():\n",
    "    print (k,v)\n",
    "    break"
   ]
  },
  {
   "cell_type": "code",
   "execution_count": 31,
   "metadata": {},
   "outputs": [],
   "source": [
    "import numpy as np\n",
    "import pandas as pd\n",
    "\n",
    "\n",
    "\n",
    "infile = path+'BAVTAV.Proximities.Probe_probe_SP4_p001_filtered.txt'\n",
    "\n",
    "\n",
    "header = [\n",
    "          \"RefSeqName_1\",\"TranscriptName_1\",\"Feature_ID_1\",\n",
    "          \"FeatureChr_1\",\"FeatureStart_1\",\"FeatureEnd_1\",\n",
    "          \"Annotation_1\",\"Strand_1\",\n",
    "          \"RefSeqName_2\",\"TranscriptName_2\",\"Feature_ID_2\",\n",
    "          \"FeatureChr_2\",\"FeatureStart_2\",\"FeatureEnd_2\",\n",
    "          \"Annotation_2\",\"Strand_2\",\"abs(Distance)\",\n",
    "          \"TAV2431_SuppPairs\",\"TAV2431_p_value\",\"TAV2431_StrandCombination\",\n",
    "          \"TAV2515_SuppPairs\",\"TAV2515_p_value\",\"TAV2515_StrandCombination\",\n",
    "          \"TAV2709_SuppPairs\",\"TAV2709_p_value\",\"TAV2709_StrandCombination\",\n",
    "          \"BAV2375_SuppPairs\",\"BAV2375_p_value\",\"BAV2375_StrandCombination\",\n",
    "          \"BAV2424_SuppPairs\",\"BAV2424_p_value\",\"BAV2424_StrandCombination\",\n",
    "          \"BAV2714_SuppPairs\",\"BAV2714_p_value\",\"BAV2714_StrandCombination\",\n",
    "          \"logFC\",\"logCPM\",\"LR\",\"PValue\",\"p_adjust\"\n",
    "        ]\n",
    "\n",
    "\n",
    "out_file_2 = \"BAVTAV.Proximities.Probe_probe_SP4_p001_DL_filtered.txt\"\n",
    "fh = open (out_file_2, \"w\")\n",
    "fh.write(\"\\t\".join(header))\n",
    "fh.write(\"\\n\")\n",
    "\n",
    "\n",
    "#sys.stdout = open('/Volumes/Work_drive/prj/THP1_July_2018/data/raw_internal/PDI/Interaction_PDI_exp.txt', 'w')\n",
    "#sys.stdout = open(outfile, 'w')\n",
    "\n",
    "with open (infile, 'r') as Int:\n",
    "    next(Int)\n",
    "    for lines in Int:\n",
    "        line = lines.strip().split(\"\\t\")\n",
    "        dist = line[16]\n",
    "        uniq = line[2]+line[10]\n",
    "        sorted_uniq = ''.join(sorted(uniq))\n",
    "        #print(sorted_uniq)\n",
    "        if sorted_uniq in dE_loop_PP.keys():\n",
    "            #print(dE_loop_PP[sorted_uniq])\n",
    "            line.append(dE_loop_PP[sorted_uniq][0])\n",
    "            line.append(dE_loop_PP[sorted_uniq][1])\n",
    "            line.append(dE_loop_PP[sorted_uniq][2])\n",
    "            line.append(dE_loop_PP[sorted_uniq][3])\n",
    "            line.append(dE_loop_PP[sorted_uniq][4])\n",
    "            fh.write (\"\\t\".join(line))\n",
    "            fh.write (\"\\n\")\n",
    "fh.close()"
   ]
  },
  {
   "cell_type": "code",
   "execution_count": null,
   "metadata": {},
   "outputs": [],
   "source": []
  }
 ],
 "metadata": {
  "kernelspec": {
   "display_name": "Python [default]",
   "language": "python",
   "name": "python3"
  },
  "language_info": {
   "codemirror_mode": {
    "name": "ipython",
    "version": 3
   },
   "file_extension": ".py",
   "mimetype": "text/x-python",
   "name": "python",
   "nbconvert_exporter": "python",
   "pygments_lexer": "ipython3",
   "version": "3.6.6"
  }
 },
 "nbformat": 4,
 "nbformat_minor": 2
}
