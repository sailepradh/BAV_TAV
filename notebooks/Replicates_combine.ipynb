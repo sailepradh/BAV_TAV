{
 "cells": [
  {
   "cell_type": "code",
   "execution_count": null,
   "metadata": {},
   "outputs": [],
   "source": [
    "import os\n",
    "os.chdir(\"/Volumes/Work_drive/prj/BAV_TAV/data/raw_internal/Dec_17_HiCap_test_runs/Filtered_dataset\")\n",
    "\n",
    "file1 = \"TAV_old_probes.txt\"\n",
    "\n",
    "with open (file1 , \"r\") as TAV:¨\n",
    "    "
   ]
  }
 ],
 "metadata": {
  "kernelspec": {
   "display_name": "Python [default]",
   "language": "python",
   "name": "python3"
  },
  "language_info": {
   "codemirror_mode": {
    "name": "ipython",
    "version": 3
   },
   "file_extension": ".py",
   "mimetype": "text/x-python",
   "name": "python",
   "nbconvert_exporter": "python",
   "pygments_lexer": "ipython3",
   "version": "3.6.6"
  }
 },
 "nbformat": 4,
 "nbformat_minor": 2
}
