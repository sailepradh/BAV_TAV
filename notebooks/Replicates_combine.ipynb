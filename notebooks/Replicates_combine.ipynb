{
 "cells": [
  {
   "cell_type": "markdown",
   "metadata": {},
   "source": [
    "```shell\n",
    "\n",
    "\n",
    "awk -F '\\t' '{ if (($12 != -1 && $19 >= 4 && $20 < 0.001) || ($12 != -1 && $21 >= 4 && $22 < 0.001)) print $0}' BAVTAV.Proximities.Probe_Distal_SP4_p001_filtered_in_one.txt | awk -v OFS=\"\\t\" '{$13=$14=$15=$16=$17=$18=\"\"; print $1,$2,$3,$4,$5,$6,$7,$8,$9,$10,$11,$12,$19,$20,$21,$22,$23,$24}' > BAV_old_probes.txt\n",
    "\n",
    "\n",
    "\n",
    "awk -F '\\t' '{ if (($12 != -1 && $13 >= 4 && $14 < 0.001) || ($12 != -1 && $16 >= 4 && $17 < 0.001)) print $0}' BAVTAV.Proximities.Probe_Distal_SP4_p001_filtered_in_one.txt | awk -v OFS=\"\\t\" '{$19=$20=$21=$22=$23=$NF=\"\"; print $0}' > TAV_old_probes.txt\n",
    "\n",
    "```\n"
   ]
  },
  {
   "cell_type": "markdown",
   "metadata": {},
   "source": [
    "### TAV"
   ]
  },
  {
   "cell_type": "code",
   "execution_count": null,
   "metadata": {},
   "outputs": [],
   "source": [
    "import os\n",
    "os.chdir(\"/Volumes/Work_drive/prj/BAV_TAV/data/raw_internal/Dec_17_HiCap_test_runs/Filtered_dataset\")\n",
    "\n",
    "file1 = \"TAV_old_probes.txt\"\n",
    "file2 = \"TAV_new_probes.txt\"\n",
    "\n",
    "TAV_old = {}\n",
    "TAV_new = {}\n",
    "\n",
    "with open (file1 , 'r') as TAV:\n",
    "    for lines in TAV:\n",
    "        line = lines.strip().split(\"\\t\")\n",
    "        Gene_transcript = line[0]+\":\"+line[1]\n",
    "        test = TAV_old.get(Gene_transcript, [])\n",
    "        other_fields = line[2:18]\n",
    "        test.append(other_fields)\n",
    "        TAV_old[Gene_transcript]= test\n",
    "\n",
    "with open (file2 , 'r') as TAVnew:\n",
    "    for lines in TAVnew:\n",
    "        line = lines.strip().split(\"\\t\")\n",
    "        Gene_transcript = line[0]+\":\"+line[1]\n",
    "        test = TAV_new.get(Gene_transcript, [])\n",
    "        other_fields = line[2:15]\n",
    "        test.append(other_fields)\n",
    "        TAV_new[Gene_transcript]= test\n",
    "        \n",
    "print (len (TAV_old.keys()))\n",
    "print (len (TAV_new.keys()))"
   ]
  },
  {
   "cell_type": "code",
   "execution_count": null,
   "metadata": {},
   "outputs": [],
   "source": [
    "list_1 = list(TAV_new.keys())\n",
    "list_2 = list(TAV_old.keys())\n",
    "\n",
    "overlapped_probes = list(set(list_1).intersection(list_2))\n",
    "probes_only_old = list (set(list_2)-set(list_1))\n",
    "probes_only_new = list(set(list_1)-set(list_2))\n",
    "\n",
    "print(len(overlapped_probes))\n",
    "print(len(probes_only_old))\n",
    "print (len(probes_only_new))"
   ]
  },
  {
   "cell_type": "code",
   "execution_count": null,
   "metadata": {},
   "outputs": [],
   "source": [
    "out_file = \"out_file.txt\"\n",
    "fh = open (out_file, \"w\")\n",
    "\n",
    "for keys in overlapped_probes:\n",
    "    #if keys == \"ROBO4:NM_001301088\":\n",
    "    split_keys =  keys.split(\":\")\n",
    "    a = []\n",
    "    few = {}\n",
    "        \n",
    "    z_count = '0'\n",
    "    z_p = '1'\n",
    "    z_combo = \"0_0_0_0\"\n",
    "        \n",
    "    for element in TAV_new[keys]:\n",
    "        pos = element[9]\n",
    "        others = few.get(pos, [])\n",
    "        others = (element[10],element[11],element[12])\n",
    "        few[pos] = others \n",
    "        a.append(element[9])   \n",
    "\n",
    "            \n",
    "    for ele in TAV_old[keys]:\n",
    "        if ele[9] in a :\n",
    "            ele.append(few[ele[9]][0])\n",
    "            ele.append(few[ele[9]][1])\n",
    "            ele.append(few[ele[9]][2])\n",
    "                \n",
    "            fh.write(\"\\t\".join(split_keys)+\"\\t\"+\"\\t\".join(ele))\n",
    "            fh.write(\"\\n\")\n",
    "fh.close()\n",
    "\n",
    "\n",
    "out_file_2 = \"out_file_2.txt\"\n",
    "fh = open (out_file_2, \"w\")\n",
    "\n",
    "for keys in probes_only_old:\n",
    "    split_keys =  keys.split(\":\")\n",
    "\n",
    "    for ele in TAV_old[keys]:\n",
    "        \n",
    "        #if int(ele[10]) > 4 and  float(ele[11]) < 0.001 and int(ele[13]) > 4 and float(ele[14]) < 0.001: \n",
    "            \n",
    "            \n",
    "        z_count = '0'\n",
    "        z_p = '1'\n",
    "        z_combo = \"0_0_0_0\"        \n",
    "         \n",
    "        ele.append(z_count)\n",
    "        ele.append(z_p)\n",
    "        ele.append(z_combo)\n",
    "        fh.write(\"\\t\".join(split_keys)+\"\\t\"+\"\\t\".join(ele))\n",
    "        fh.write(\"\\n\")\n",
    "fh.close()"
   ]
  },
  {
   "cell_type": "code",
   "execution_count": null,
   "metadata": {},
   "outputs": [],
   "source": [
    "%%bash\n",
    "\n",
    "#cat out_file.txt out_file_2.txt | sort -n -k1,1  > TAV_prox_PD_two_bio_rep_SP4_p0001.txt\n",
    "\n",
    "cat out_file.txt out_file_2.txt | sort -n -k1,1  > TAV_prox_PD_biological_rep_SP4_p0001.txt\n",
    "\n",
    "wc -l out_file.txt\n",
    "wc -l out_file_2.txt \n",
    "wc -l TAV_prox_PD_biological_rep_SP4_p0001.txt"
   ]
  },
  {
   "cell_type": "code",
   "execution_count": null,
   "metadata": {},
   "outputs": [],
   "source": [
    "%%bash\n",
    "rm -r out_file.txt out_file_2.txt"
   ]
  },
  {
   "cell_type": "markdown",
   "metadata": {},
   "source": [
    "### BAV"
   ]
  },
  {
   "cell_type": "code",
   "execution_count": null,
   "metadata": {},
   "outputs": [],
   "source": [
    "import os\n",
    "os.chdir(\"/Volumes/Work_drive/prj/BAV_TAV/data/raw_internal/Dec_17_HiCap_test_runs/Filtered_dataset\")\n",
    "\n",
    "file1 = \"BAV_old_probes.txt\"\n",
    "file2 = \"BAV_new_probes.txt\"\n",
    "\n",
    "BAV_old = {}\n",
    "BAV_new = {}\n",
    "\n",
    "with open (file1 , 'r') as BAV:\n",
    "    for lines in BAV:\n",
    "        line = lines.strip().split(\"\\t\")\n",
    "        Gene_transcript = line[0]+\":\"+line[1]\n",
    "        test = BAV_old.get(Gene_transcript, [])\n",
    "        other_fields = line[2:18]\n",
    "        test.append(other_fields)\n",
    "        BAV_old[Gene_transcript]= test\n",
    "\n",
    "with open (file2 , 'r') as BAVnew:\n",
    "    for lines in BAVnew:\n",
    "        line = lines.strip().split(\"\\t\")\n",
    "        Gene_transcript = line[0]+\":\"+line[1]\n",
    "        test = BAV_new.get(Gene_transcript, [])\n",
    "        other_fields = line[2:15]\n",
    "        test.append(other_fields)\n",
    "        BAV_new[Gene_transcript]= test\n",
    "        \n",
    "print (len (BAV_old.keys()))\n",
    "print (len (BAV_new.keys()))\n"
   ]
  },
  {
   "cell_type": "code",
   "execution_count": null,
   "metadata": {},
   "outputs": [],
   "source": [
    "list_1 = list(BAV_new.keys())\n",
    "list_2 = list(BAV_old.keys())\n",
    "\n",
    "overlapped_probes = list(set(list_1).intersection(list_2))\n",
    "probes_only_old = list (set(list_2)-set(list_1))\n",
    "probes_only_new = list(set(list_1)-set(list_2))"
   ]
  },
  {
   "cell_type": "code",
   "execution_count": null,
   "metadata": {},
   "outputs": [],
   "source": [
    "print(len(overlapped_probes))\n",
    "print(len(probes_only_old))\n",
    "print (len(probes_only_new))"
   ]
  },
  {
   "cell_type": "code",
   "execution_count": null,
   "metadata": {},
   "outputs": [],
   "source": [
    "out_file = \"out_file.txt\"\n",
    "fh = open (out_file, \"w\")\n",
    "\n",
    "for keys in overlapped_probes:\n",
    "    #if keys == \"ROBO4:NM_001301088\":\n",
    "    split_keys =  keys.split(\":\")\n",
    "    a = []\n",
    "    few = {}\n",
    "        \n",
    "    z_count = '0'\n",
    "    z_p = '1'\n",
    "    z_combo = \"0_0_0_0\"\n",
    "        \n",
    "    for element in BAV_new[keys]:\n",
    "        pos = element[9]\n",
    "        others = few.get(pos, [])\n",
    "        others = (element[10],element[11],element[12])\n",
    "        few[pos] = others \n",
    "        a.append(element[9])   \n",
    "\n",
    "            \n",
    "    for ele in BAV_old[keys]:\n",
    "        if ele[9] in a :\n",
    "            ele.append(few[ele[9]][0])\n",
    "            ele.append(few[ele[9]][1])\n",
    "            ele.append(few[ele[9]][2])\n",
    "                \n",
    "            fh.write(\"\\t\".join(split_keys)+\"\\t\"+\"\\t\".join(ele))\n",
    "            fh.write(\"\\n\")\n",
    "fh.close()\n",
    "\n",
    "\n",
    "out_file_2 = \"out_file_2.txt\"\n",
    "fh = open (out_file_2, \"w\")\n",
    "\n",
    "for keys in probes_only_old:\n",
    "    split_keys =  keys.split(\":\")\n",
    "\n",
    "    for ele in BAV_old[keys]:\n",
    "        \n",
    "        #if int(ele[10]) > 4 and  float(ele[11]) < 0.001 and int(ele[13]) > 4 and float(ele[14]) < 0.001: \n",
    "            \n",
    "        z_count = '0'\n",
    "        z_p = '1'\n",
    "        z_combo = \"0_0_0_0\"        \n",
    "         \n",
    "        ele.append(z_count)\n",
    "        ele.append(z_p)\n",
    "        ele.append(z_combo)\n",
    "        fh.write(\"\\t\".join(split_keys)+\"\\t\"+\"\\t\".join(ele))\n",
    "        fh.write(\"\\n\")\n",
    "fh.close()"
   ]
  },
  {
   "cell_type": "code",
   "execution_count": null,
   "metadata": {},
   "outputs": [],
   "source": [
    "%%bash\n",
    "\n",
    "#cat out_file.txt out_file_2.txt | sort -n -k1,1  > BAV_prox_PD_two_bio_rep_SP4_p0001.txt\n",
    "\n",
    "cat out_file.txt out_file_2.txt | sort -n -k1,1  > BAV_prox_PD_biological_rep_SP4_p0001.txt\n",
    "wc -l out_file.txt\n",
    "wc -l out_file_2.txt\n",
    "\n",
    "wc -l BAV_prox_PD_biological_rep_SP4_p0001.txt"
   ]
  },
  {
   "cell_type": "code",
   "execution_count": null,
   "metadata": {},
   "outputs": [],
   "source": [
    "%%bash\n",
    "rm -r out_file.txt out_file_2.txt"
   ]
  },
  {
   "cell_type": "markdown",
   "metadata": {},
   "source": [
    "### BAV and TAV"
   ]
  },
  {
   "cell_type": "code",
   "execution_count": 1,
   "metadata": {},
   "outputs": [
    {
     "name": "stdout",
     "output_type": "stream",
     "text": [
      "6783\n",
      "6877\n"
     ]
    }
   ],
   "source": [
    "import os\n",
    "os.chdir(\"/Volumes/Work_drive/prj/BAV_TAV/data/raw_internal/Dec_17_HiCap_test_runs/Filtered_dataset\")\n",
    "\n",
    "file1 = \"TAV_prox_PD_biological_rep_SP4_p0001.txt\"\n",
    "file2 = \"BAV_prox_PD_biological_rep_SP4_p0001.txt\"\n",
    "\n",
    "TAV = {}\n",
    "BAV = {}\n",
    "\n",
    "\n",
    "with open (file1 , 'r') as TAV_file:\n",
    "    for lines in TAV_file:\n",
    "        line = lines.strip().split(\"\\t\")\n",
    "        Gene_transcript = line[0]+\":\"+line[1]\n",
    "        test = TAV.get(Gene_transcript, [])\n",
    "        other_fields = line[2:21]\n",
    "        test.append(other_fields)\n",
    "        TAV[Gene_transcript]= test\n",
    "\n",
    "with open (file2 , 'r') as BAV_file:\n",
    "    for lines in BAV_file:\n",
    "        line = lines.strip().split(\"\\t\")\n",
    "        Gene_transcript = line[0]+\":\"+line[1]\n",
    "        test = BAV.get(Gene_transcript, [])\n",
    "        other_fields = line[2:21]\n",
    "        test.append(other_fields)\n",
    "        BAV[Gene_transcript]= test\n",
    "        \n",
    "print (len (TAV.keys()))\n",
    "print (len (BAV.keys()))\n"
   ]
  },
  {
   "cell_type": "code",
   "execution_count": null,
   "metadata": {},
   "outputs": [],
   "source": [
    "print (len (TAV.values()))\n",
    "print (len (BAV.values()))\n"
   ]
  },
  {
   "cell_type": "code",
   "execution_count": 2,
   "metadata": {},
   "outputs": [],
   "source": [
    "list_1 = list(TAV.keys())\n",
    "list_2 = list(BAV.keys())\n",
    "\n",
    "overlapped_probes = list(set(list_1).intersection(list_2))\n",
    "probes_BAV = list (set(list_2)-set(list_1))\n",
    "probes_TAV = list(set(list_1)-set(list_2))"
   ]
  },
  {
   "cell_type": "code",
   "execution_count": 3,
   "metadata": {},
   "outputs": [
    {
     "name": "stdout",
     "output_type": "stream",
     "text": [
      "5038\n",
      "1745\n",
      "1839\n"
     ]
    }
   ],
   "source": [
    "print (len(overlapped_probes))\n",
    "print (len(probes_TAV))\n",
    "print (len(probes_BAV))"
   ]
  },
  {
   "cell_type": "code",
   "execution_count": 4,
   "metadata": {},
   "outputs": [
    {
     "data": {
      "text/plain": [
       "['MIR128-1:NR_029672',\n",
       " 'DTNB:NM_001256303',\n",
       " 'FGF1:NM_000800',\n",
       " 'LYRM2:NM_020466']"
      ]
     },
     "execution_count": 4,
     "metadata": {},
     "output_type": "execute_result"
    }
   ],
   "source": [
    "overlapped_probes[0:4]"
   ]
  },
  {
   "cell_type": "code",
   "execution_count": null,
   "metadata": {},
   "outputs": [],
   "source": [
    "probes_TAV[0:5]"
   ]
  },
  {
   "cell_type": "code",
   "execution_count": null,
   "metadata": {},
   "outputs": [],
   "source": [
    "probes_BAV[0:5]"
   ]
  },
  {
   "cell_type": "code",
   "execution_count": null,
   "metadata": {},
   "outputs": [],
   "source": [
    "out_file = \"out_file.txt\"\n",
    "fh = open (out_file, \"w\")\n",
    "\n",
    "for keys in overlapped_probes:\n",
    "    split_keys =  keys.split(\":\")\n",
    "    a = []\n",
    "    few = {}\n",
    "        \n",
    "    for element in BAV[keys]:\n",
    "        pos = element[9]\n",
    "        others = few.get(pos, [])\n",
    "        others = (element[10],element[11],element[12], \n",
    "                      element[13],element[14],element[15],\n",
    "                      element[16],element[17],element[18])\n",
    "        few[pos] = others \n",
    "        a.append(element[9])   \n",
    "            \n",
    "    for ele in TAV[keys]:\n",
    "        if ele[9] in a :\n",
    "            ele.append(few[ele[9]][0])\n",
    "            ele.append(few[ele[9]][1])\n",
    "            ele.append(few[ele[9]][2])\n",
    "            ele.append(few[ele[9]][3])\n",
    "            ele.append(few[ele[9]][4])\n",
    "            ele.append(few[ele[9]][5])\n",
    "            ele.append(few[ele[9]][6])\n",
    "            ele.append(few[ele[9]][7])\n",
    "            ele.append(few[ele[9]][8])\n",
    "            fh.write(\"\\t\".join(split_keys)+\"\\t\"+\"\\t\".join(ele))\n",
    "            fh.write(\"\\n\")\n",
    "fh.close()"
   ]
  },
  {
   "cell_type": "code",
   "execution_count": 28,
   "metadata": {},
   "outputs": [],
   "source": [
    "out_file_2 = \"output_2.txt\"\n",
    "fh = open (out_file_2, \"w\")\n",
    "\n",
    "\n",
    "for keys in overlapped_probes:\n",
    "    #if keys ==\"MIR128-1:NR_029672\":\n",
    "    split_keys =  keys.split(\":\")\n",
    "    \n",
    "    z_count = '0'\n",
    "    z_p = '1'\n",
    "    z_combo = \"0_0_0_0\"\n",
    "\n",
    "    few_tav = {}\n",
    "    few_bav = {}\n",
    "    \n",
    "    \n",
    "    for element in BAV[keys]:\n",
    "        pos = element[9]\n",
    "        others = few_bav.get(pos, [])\n",
    "        others = (element[0],element[1],element[2], \n",
    "                      element[3],element[4],element[5],\n",
    "                      element[6],element[7],element[8],\n",
    "                      element[9],element[10],element[11],element[12], \n",
    "                      element[13],element[14],element[15],\n",
    "                      element[16],element[17],element[18])\n",
    "        few_bav[pos] = others  \n",
    "    \n",
    "    for element in TAV[keys]:\n",
    "        pos = element[9]\n",
    "        others = few_tav.get(pos, [])\n",
    "        others = (element[0],element[1],element[2], \n",
    "                      element[3],element[4],element[5],\n",
    "                      element[6],element[7],element[8],\n",
    "                      element[9],element[10],element[11],element[12], \n",
    "                      element[13],element[14],element[15],\n",
    "                      element[16],element[17],element[18])\n",
    "        few_tav[pos] = others \n",
    "        \n",
    "    list_1 = list(few_tav.keys())\n",
    "    list_2 = list(few_bav.keys())\n",
    "    \n",
    "    overlapped_distance = list(set(list_1).intersection(list_2))\n",
    "    distance_BAV = list (set(list_2)-set(list_1))\n",
    "    distance_TAV = list (set (list_1)-set(list_2))\n",
    "        \n",
    "        \n",
    "    for distance in overlapped_distance:\n",
    "        a = [i for i in few_tav[distance]]\n",
    "        a.append (few_bav[distance][10])\n",
    "        a.append (few_bav[distance][11])\n",
    "        a.append (few_bav[distance][12])\n",
    "        a.append (few_bav[distance][13])\n",
    "        a.append (few_bav[distance][14])\n",
    "        a.append (few_bav[distance][15])\n",
    "        a.append (few_bav[distance][16])\n",
    "        a.append (few_bav[distance][17])\n",
    "        a.append (few_bav[distance][18])\n",
    "        fh.write(\"\\t\".join(a))\n",
    "        fh.write(\"\\n\")\n",
    "            \n",
    "    for distance in distance_TAV:\n",
    "        ele = [i for i in few_tav[distance]]        \n",
    "        ele.append(z_count)\n",
    "        ele.append(z_p)\n",
    "        ele.append(z_combo)\n",
    "        ele.append(z_count)\n",
    "        ele.append(z_p)\n",
    "        ele.append(z_combo)\n",
    "        ele.append(z_count)\n",
    "        ele.append(z_p)\n",
    "        ele.append(z_combo)    \n",
    "        fh.write(\"\\t\".join( ele))\n",
    "        fh.write(\"\\n\")\n",
    "            \n",
    "    for distance in distance_BAV:\n",
    "        ele = [i for i in few_bav[distance]]\n",
    "        ele.append(z_count)\n",
    "        ele.append(z_p)\n",
    "        ele.append(z_combo)\n",
    "        ele.append(z_count)\n",
    "        ele.append(z_p)\n",
    "        ele.append(z_combo)\n",
    "        ele.append(z_count)\n",
    "        ele.append(z_p)\n",
    "        ele.append(z_combo)\n",
    "        myorder = [0,1,2,3,4,5,6,7,8,9,19,20,21,22,23,24,25,26,27,10,11,12,13,14,15,16,17,18]\n",
    "        order_ele = [ele[i] for i in myorder]\n",
    "        fh.write(\"\\t\".join( order_ele))\n",
    "        fh.write(\"\\n\")\n",
    "fh.close()            "
   ]
  },
  {
   "cell_type": "code",
   "execution_count": null,
   "metadata": {},
   "outputs": [],
   "source": [
    "out_file_2 = \"BAV_only.txt\"\n",
    "fh = open (out_file_2, \"w\")\n",
    "\n",
    "for keys in probes_BAV:\n",
    "    split_keys =  keys.split(\":\")\n",
    "    for ele in BAV[keys]:    \n",
    "        z_count = '0'\n",
    "        z_p = '1'\n",
    "        z_combo = \"0_0_0_0\"\n",
    "        \n",
    "        ele.append(z_count)\n",
    "        ele.append(z_p)\n",
    "        ele.append(z_combo)\n",
    "        ele.append(z_count)\n",
    "        ele.append(z_p)\n",
    "        ele.append(z_combo)\n",
    "        ele.append(z_count)\n",
    "        ele.append(z_p)\n",
    "        ele.append(z_combo)\n",
    "        \n",
    "        myorder = [0,1,2,3,4,5,6,7,8,9,19,20,21,22,23,24,25,26,27,10,11,12,13,14,15,16,17,18]\n",
    "        order_ele = [ele[i] for i in myorder]\n",
    "        fh.write(\"\\t\".join(split_keys)+\"\\t\"+\"\\t\".join(order_ele))\n",
    "        fh.write(\"\\n\")\n",
    "fh.close()        "
   ]
  },
  {
   "cell_type": "code",
   "execution_count": null,
   "metadata": {},
   "outputs": [],
   "source": [
    "out_file_2 = \"TAV_only.txt\"\n",
    "fh = open (out_file_2, \"w\")\n",
    "\n",
    "for keys in probes_TAV:\n",
    "    split_keys =  keys.split(\":\")\n",
    "    for ele in TAV[keys]:    \n",
    "        z_count = '0'\n",
    "        z_p = '1'\n",
    "        z_combo = \"0_0_0_0\"\n",
    "        \n",
    "        ele.append(z_count)\n",
    "        ele.append(z_p)\n",
    "        ele.append(z_combo)\n",
    "        ele.append(z_count)\n",
    "        ele.append(z_p)\n",
    "        ele.append(z_combo)\n",
    "        ele.append(z_count)\n",
    "        ele.append(z_p)\n",
    "        ele.append(z_combo)\n",
    "        \n",
    "        fh.write(\"\\t\".join(split_keys)+\"\\t\"+\"\\t\".join(ele))\n",
    "        fh.write(\"\\n\")\n",
    "fh.close()"
   ]
  },
  {
   "cell_type": "code",
   "execution_count": null,
   "metadata": {},
   "outputs": [],
   "source": [
    "cat out_file.txt BAV_only.txt TAV_only.txt | sort -n -k1,1  > BAV_prox_PD_biological_rep_SP4_p0001.txt\n",
    "wc -l out_file.txt\n",
    "wc -l out_file_2.txt\n",
    "\n",
    "wc -l BAV_prox_PD_biological_rep_SP4_p0001.txt"
   ]
  }
 ],
 "metadata": {
  "kernelspec": {
   "display_name": "Python [default]",
   "language": "python",
   "name": "python3"
  },
  "language_info": {
   "codemirror_mode": {
    "name": "ipython",
    "version": 3
   },
   "file_extension": ".py",
   "mimetype": "text/x-python",
   "name": "python",
   "nbconvert_exporter": "python",
   "pygments_lexer": "ipython3",
   "version": "3.6.6"
  }
 },
 "nbformat": 4,
 "nbformat_minor": 2
}
