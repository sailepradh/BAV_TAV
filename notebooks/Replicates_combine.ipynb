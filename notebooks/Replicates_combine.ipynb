{
 "cells": [
  {
   "cell_type": "markdown",
   "metadata": {},
   "source": [
    "```shell\n",
    "\n",
    "\n",
    "awk -F '\\t' '{ if (($12 != -1 && $19 >= 4 && $20 < 0.001) || ($12 != -1 && $21 >= 4 && $22 < 0.001)) print $0}' BAVTAV.Proximities.Probe_Distal_SP4_p001_filtered_in_one.txt | awk -v OFS=\"\\t\" '{$13=$14=$15=$16=$17=$18=\"\"; print $1,$2,$3,$4,$5,$6,$7,$8,$9,$10,$11,$12,$19,$20,$21,$22,$23,$24}' > BAV_old_probes.txt\n",
    "\n",
    "\n",
    "\n",
    "awk -F '\\t' '{ if (($12 != -1 && $13 >= 4 && $14 < 0.001) || ($12 != -1 && $16 >= 4 && $17 < 0.001)) print $0}' BAVTAV.Proximities.Probe_Distal_SP4_p001_filtered_in_one.txt | awk -v OFS=\"\\t\" '{$19=$20=$21=$22=$23=$NF=\"\"; print $0}' > TAV_old_probes.txt\n",
    "\n",
    "\n",
    "sed '1,2d'  BAV_TAV.Proximities.Probe_Distal_SP1_filtered_in_one.txt | awk -F '\\t' '{ if ($12 != -1 && $13 >= 1) print $0}' | awk -v OFS=\"\\t\" '{$16=$17=$NF=\"\"; print $0}' > TAV_new_probes_one.txt\n",
    "\n",
    "\n",
    "sed '1,2d'  BAV_TAV.Proximities.Probe_Distal_SP1_filtered_in_one.txt | awk -F '\\t' '{ if ($12 != -1 && $16 >= 1) print $0}' | awk -v OFS=\"\\t\" '{print $1,$2,$3,$4,$5,$6,$7,$8,$9,$10,$11,$12,$16,$17,$18}' > BAV_new_probes_one.txt\n",
    "\n",
    "\n",
    "```\n"
   ]
  },
  {
   "cell_type": "markdown",
   "metadata": {},
   "source": [
    "### TAV"
   ]
  },
  {
   "cell_type": "code",
   "execution_count": 5,
   "metadata": {},
   "outputs": [
    {
     "name": "stdout",
     "output_type": "stream",
     "text": [
      "8339\n",
      "24107\n"
     ]
    }
   ],
   "source": [
    "import os\n",
    "os.chdir(\"/Volumes/Work_drive/prj/BAV_TAV/data/raw_internal/Dec_17_HiCap_test_runs/Filtered_dataset\")\n",
    "\n",
    "\n",
    "### Reading the biological replocates specific interaction\n",
    "file1 = \"TAV_old_probes.txt\"\n",
    "file2 = \"TAV_new_probes_one.txt\"\n",
    "\n",
    "TAV_old = {}\n",
    "TAV_new = {}\n",
    "\n",
    "with open (file1 , 'r') as TAV:\n",
    "    for lines in TAV:\n",
    "        line = lines.strip().split(\"\\t\")\n",
    "        Gene_transcript = line[0]+\":\"+line[1]\n",
    "        test = TAV_old.get(Gene_transcript, [])\n",
    "        other_fields = line[2:18]\n",
    "        test.append(other_fields)\n",
    "        TAV_old[Gene_transcript]= test\n",
    "\n",
    "with open (file2 , 'r') as TAVnew:\n",
    "    for lines in TAVnew:\n",
    "        line = lines.strip().split(\"\\t\")\n",
    "        Gene_transcript = line[0]+\":\"+line[1]\n",
    "        test = TAV_new.get(Gene_transcript, [])\n",
    "        other_fields = line[2:15]\n",
    "        test.append(other_fields)\n",
    "        TAV_new[Gene_transcript]= test\n",
    "        \n",
    "print (len (TAV_old.keys()))\n",
    "print (len (TAV_new.keys()))"
   ]
  },
  {
   "cell_type": "code",
   "execution_count": 6,
   "metadata": {},
   "outputs": [
    {
     "name": "stdout",
     "output_type": "stream",
     "text": [
      "5030\n",
      "3309\n",
      "19077\n"
     ]
    }
   ],
   "source": [
    "list_1 = list(TAV_new.keys())\n",
    "list_2 = list(TAV_old.keys())\n",
    "\n",
    "overlapped_probes = list(set(list_1).intersection(list_2))\n",
    "probes_only_old = list (set(list_2)-set(list_1))\n",
    "probes_only_new = list(set(list_1)-set(list_2))\n",
    "\n",
    "print(len(overlapped_probes))\n",
    "print(len(probes_only_old))\n",
    "print (len(probes_only_new))"
   ]
  },
  {
   "cell_type": "code",
   "execution_count": 7,
   "metadata": {},
   "outputs": [
    {
     "data": {
      "text/plain": [
       "['ROGDI:NM_024589',\n",
       " 'SIPA1L3:NM_015073',\n",
       " 'U47924.27:ENST00000537269.1',\n",
       " 'DHRS7:NM_001322280',\n",
       " 'MYLK3:NM_182493']"
      ]
     },
     "execution_count": 7,
     "metadata": {},
     "output_type": "execute_result"
    }
   ],
   "source": [
    "probes_only_new[15:20]"
   ]
  },
  {
   "cell_type": "code",
   "execution_count": 8,
   "metadata": {},
   "outputs": [
    {
     "data": {
      "text/plain": [
       "['ZNF532:NM_018181',\n",
       " 'EBAG9:NM_001278938',\n",
       " 'rs4552040:_HepG2_C_gwas',\n",
       " 'CBS:NM_000071']"
      ]
     },
     "execution_count": 8,
     "metadata": {},
     "output_type": "execute_result"
    }
   ],
   "source": [
    "probes_only_old[1:5]"
   ]
  },
  {
   "cell_type": "code",
   "execution_count": 9,
   "metadata": {},
   "outputs": [
    {
     "data": {
      "text/plain": [
       "['ZNF274:NM_001278734',\n",
       " 'HSD11B1:NM_001206741',\n",
       " 'ELF3:NM_001114309',\n",
       " 'ARL4D:NM_001661']"
      ]
     },
     "execution_count": 9,
     "metadata": {},
     "output_type": "execute_result"
    }
   ],
   "source": [
    "overlapped_probes[1:5]"
   ]
  },
  {
   "cell_type": "code",
   "execution_count": 11,
   "metadata": {},
   "outputs": [],
   "source": [
    "out_file = \"out_file_test.txt\"\n",
    "fh = open (out_file, \"w\")\n",
    "\n",
    "for keys in overlapped_probes:\n",
    "    #if keys == \"ROBO4:NM_001301088\":\n",
    "    \n",
    "    split_keys =  keys.split(\":\")\n",
    "    \n",
    "    z_count = '0'\n",
    "    z_p = '1'\n",
    "    z_combo = \"0_0_0_0\"\n",
    "\n",
    "    few_old = {}\n",
    "    few_new = {}\n",
    "\n",
    "    for element in TAV_old[keys]:\n",
    "        pos = element[9]\n",
    "        others = few_old.get(pos, [])\n",
    "        others = (element[0],element[1],element[2], \n",
    "                      element[3],element[4],element[5],\n",
    "                      element[6],element[7],element[8],\n",
    "                      element[9],element[10],element[11],element[12], \n",
    "                      element[13],element[14],element[15])\n",
    "        few_old[pos] = others\n",
    "        \n",
    "    for element in TAV_new[keys]:\n",
    "        pos = element[9]\n",
    "        others = few_new.get(pos, [])\n",
    "        others = (element[0],element[1],element[2], \n",
    "                      element[3],element[4],element[5],\n",
    "                      element[6],element[7],element[8],\n",
    "                      element[9],element[10],element[11],element[12])\n",
    "        few_new[pos] = others \n",
    "        \n",
    "    list_1 = list(few_old.keys())\n",
    "    list_2 = list(few_new.keys())\n",
    "    \n",
    "    overlapped_distance = list(set(list_1).intersection(list_2))\n",
    "    distance_new = list (set(list_2)-set(list_1))\n",
    "    distance_old = list (set (list_1)-set(list_2))\n",
    "    \n",
    "    for distance in overlapped_distance:\n",
    "        a = [i for i in few_old[distance]]\n",
    "        a.append (few_new[distance][10])\n",
    "        a.append (few_new[distance][11])\n",
    "        a.append (few_new[distance][12])\n",
    "        fh.write(\"\\t\".join(split_keys)+\"\\t\"+\"\\t\".join(a))\n",
    "        fh.write(\"\\n\")\n",
    "    \n",
    "    for distance in distance_old:\n",
    "        a = [i for i in few_old[distance]]\n",
    "        a.append (z_count)\n",
    "        a.append (z_p)\n",
    "        a.append (z_combo)\n",
    "        fh.write(\"\\t\".join(split_keys)+\"\\t\"+\"\\t\".join(a))\n",
    "        fh.write(\"\\n\")\n",
    "        \n",
    "fh.close()    "
   ]
  },
  {
   "cell_type": "code",
   "execution_count": 12,
   "metadata": {},
   "outputs": [],
   "source": [
    "out_file_2 = \"out_file_2.txt\"\n",
    "fh = open (out_file_2, \"w\")\n",
    "\n",
    "for keys in probes_only_old:\n",
    "    split_keys =  keys.split(\":\")\n",
    "\n",
    "    for ele in TAV_old[keys]:\n",
    "        \n",
    "        #if int(ele[10]) > 4 and  float(ele[11]) < 0.001 and int(ele[13]) > 4 and float(ele[14]) < 0.001: \n",
    "            \n",
    "            \n",
    "        z_count = '0'\n",
    "        z_p = '1'\n",
    "        z_combo = \"0_0_0_0\"        \n",
    "         \n",
    "        ele.append(z_count)\n",
    "        ele.append(z_p)\n",
    "        ele.append(z_combo)\n",
    "        fh.write(\"\\t\".join(split_keys)+\"\\t\"+\"\\t\".join(ele))\n",
    "        fh.write(\"\\n\")\n",
    "fh.close()"
   ]
  },
  {
   "cell_type": "code",
   "execution_count": 5,
   "metadata": {},
   "outputs": [],
   "source": [
    "out_file = \"out_file.txt\"\n",
    "fh = open (out_file, \"w\")\n",
    "\n",
    "for keys in overlapped_probes:\n",
    "    #if keys == \"ROBO4:NM_001301088\":\n",
    "    split_keys =  keys.split(\":\")\n",
    "    a = []\n",
    "    few = {}\n",
    "        \n",
    "    for element in TAV_new[keys]:\n",
    "        pos = element[9]\n",
    "        others = few.get(pos, [])\n",
    "        others = (element[10],element[11],element[12])\n",
    "        few[pos] = others \n",
    "        a.append(element[9])   \n",
    "\n",
    "            \n",
    "    for ele in TAV_old[keys]:\n",
    "        if ele[9] in a :\n",
    "            ele.append(few[ele[9]][0])\n",
    "            ele.append(few[ele[9]][1])\n",
    "            ele.append(few[ele[9]][2])\n",
    "                \n",
    "            fh.write(\"\\t\".join(split_keys)+\"\\t\"+\"\\t\".join(ele))\n",
    "            fh.write(\"\\n\")\n",
    "fh.close()\n",
    "\n",
    "\n",
    "out_file_2 = \"out_file_2.txt\"\n",
    "fh = open (out_file_2, \"w\")\n",
    "\n",
    "for keys in probes_only_old:\n",
    "    split_keys =  keys.split(\":\")\n",
    "\n",
    "    for ele in TAV_old[keys]:\n",
    "        \n",
    "        #if int(ele[10]) > 4 and  float(ele[11]) < 0.001 and int(ele[13]) > 4 and float(ele[14]) < 0.001: \n",
    "            \n",
    "            \n",
    "        z_count = '0'\n",
    "        z_p = '1'\n",
    "        z_combo = \"0_0_0_0\"        \n",
    "         \n",
    "        ele.append(z_count)\n",
    "        ele.append(z_p)\n",
    "        ele.append(z_combo)\n",
    "        fh.write(\"\\t\".join(split_keys)+\"\\t\"+\"\\t\".join(ele))\n",
    "        fh.write(\"\\n\")\n",
    "fh.close()"
   ]
  },
  {
   "cell_type": "code",
   "execution_count": null,
   "metadata": {},
   "outputs": [],
   "source": [
    "%%bash\n",
    "\n",
    "#cat out_file.txt out_file_2.txt | sort -n -k1,1  > TAV_prox_PD_two_bio_rep_SP4_p0001.txt\n",
    "\n",
    "cat out_file.txt out_file_2.txt | sort -n -k1,1  > TAV_prox_PD_biological_rep_SP4_p0001.txt\n",
    "\n",
    "wc -l out_file.txt\n",
    "wc -l out_file_2.txt \n",
    "wc -l TAV_prox_PD_biological_rep_SP4_p0001.txt"
   ]
  },
  {
   "cell_type": "code",
   "execution_count": null,
   "metadata": {},
   "outputs": [],
   "source": [
    "%%bash\n",
    "rm -r out_file.txt out_file_2.txt"
   ]
  },
  {
   "cell_type": "markdown",
   "metadata": {},
   "source": [
    "### BAV"
   ]
  },
  {
   "cell_type": "code",
   "execution_count": 1,
   "metadata": {},
   "outputs": [
    {
     "name": "stdout",
     "output_type": "stream",
     "text": [
      "8454\n",
      "24060\n"
     ]
    }
   ],
   "source": [
    "import os\n",
    "os.chdir(\"/Volumes/Work_drive/prj/BAV_TAV/data/raw_internal/Dec_17_HiCap_test_runs/Filtered_dataset\")\n",
    "\n",
    "file1 = \"BAV_old_probes.txt\"\n",
    "file2 = \"BAV_new_probes_one.txt\"\n",
    "\n",
    "BAV_old = {}\n",
    "BAV_new = {}\n",
    "\n",
    "with open (file1 , 'r') as BAV:\n",
    "    for lines in BAV:\n",
    "        line = lines.strip().split(\"\\t\")\n",
    "        Gene_transcript = line[0]+\":\"+line[1]\n",
    "        test = BAV_old.get(Gene_transcript, [])\n",
    "        other_fields = line[2:18]\n",
    "        test.append(other_fields)\n",
    "        BAV_old[Gene_transcript]= test\n",
    "\n",
    "with open (file2 , 'r') as BAVnew:\n",
    "    for lines in BAVnew:\n",
    "        line = lines.strip().split(\"\\t\")\n",
    "        Gene_transcript = line[0]+\":\"+line[1]\n",
    "        test = BAV_new.get(Gene_transcript, [])\n",
    "        other_fields = line[2:15]\n",
    "        test.append(other_fields)\n",
    "        BAV_new[Gene_transcript]= test\n",
    "        \n",
    "print (len (BAV_old.keys()))\n",
    "print (len (BAV_new.keys()))\n"
   ]
  },
  {
   "cell_type": "code",
   "execution_count": 14,
   "metadata": {},
   "outputs": [],
   "source": [
    "list_1 = list(BAV_new.keys())\n",
    "list_2 = list(BAV_old.keys())\n",
    "\n",
    "overlapped_probes = list(set(list_1).intersection(list_2))\n",
    "probes_only_old = list (set(list_2)-set(list_1))\n",
    "probes_only_new = list(set(list_1)-set(list_2))"
   ]
  },
  {
   "cell_type": "code",
   "execution_count": 15,
   "metadata": {},
   "outputs": [
    {
     "name": "stdout",
     "output_type": "stream",
     "text": [
      "5059\n",
      "3395\n",
      "19001\n"
     ]
    }
   ],
   "source": [
    "print(len(overlapped_probes))\n",
    "print(len(probes_only_old))\n",
    "print (len(probes_only_new))"
   ]
  },
  {
   "cell_type": "code",
   "execution_count": 16,
   "metadata": {},
   "outputs": [],
   "source": [
    "out_file = \"out_file_test_BAV.txt\"\n",
    "fh = open (out_file, \"w\")\n",
    "\n",
    "for keys in overlapped_probes:\n",
    "    #if keys == \"ROBO4:NM_001301088\":\n",
    "    \n",
    "    split_keys =  keys.split(\":\")\n",
    "    \n",
    "    z_count = '0'\n",
    "    z_p = '1'\n",
    "    z_combo = \"0_0_0_0\"\n",
    "\n",
    "    few_old = {}\n",
    "    few_new = {}\n",
    "\n",
    "    for element in BAV_old[keys]:\n",
    "        pos = element[9]\n",
    "        others = few_old.get(pos, [])\n",
    "        others = (element[0],element[1],element[2], \n",
    "                      element[3],element[4],element[5],\n",
    "                      element[6],element[7],element[8],\n",
    "                      element[9],element[10],element[11],element[12], \n",
    "                      element[13],element[14],element[15])\n",
    "        few_old[pos] = others\n",
    "        \n",
    "    for element in BAV_new[keys]:\n",
    "        pos = element[9]\n",
    "        others = few_new.get(pos, [])\n",
    "        others = (element[0],element[1],element[2], \n",
    "                      element[3],element[4],element[5],\n",
    "                      element[6],element[7],element[8],\n",
    "                      element[9],element[10],element[11],element[12])\n",
    "        few_new[pos] = others \n",
    "        \n",
    "    list_1 = list(few_old.keys())\n",
    "    list_2 = list(few_new.keys())\n",
    "    \n",
    "    overlapped_distance = list(set(list_1).intersection(list_2))\n",
    "    distance_new = list (set(list_2)-set(list_1))\n",
    "    distance_old = list (set (list_1)-set(list_2))\n",
    "    \n",
    "    for distance in overlapped_distance:\n",
    "        a = [i for i in few_old[distance]]\n",
    "        a.append (few_new[distance][10])\n",
    "        a.append (few_new[distance][11])\n",
    "        a.append (few_new[distance][12])\n",
    "        fh.write(\"\\t\".join(split_keys)+\"\\t\"+\"\\t\".join(a))\n",
    "        fh.write(\"\\n\")\n",
    "    \n",
    "    for distance in distance_old:\n",
    "        a = [i for i in few_old[distance]]\n",
    "        a.append (z_count)\n",
    "        a.append (z_p)\n",
    "        a.append (z_combo)\n",
    "        fh.write(\"\\t\".join(split_keys)+\"\\t\"+\"\\t\".join(a))\n",
    "        fh.write(\"\\n\")\n",
    "        \n",
    "fh.close()"
   ]
  },
  {
   "cell_type": "code",
   "execution_count": null,
   "metadata": {},
   "outputs": [],
   "source": [
    "out_file = \"out_file.txt\"\n",
    "fh = open (out_file, \"w\")\n",
    "\n",
    "for keys in overlapped_probes:\n",
    "    #if keys == \"ROBO4:NM_001301088\":\n",
    "    split_keys =  keys.split(\":\")\n",
    "    a = []\n",
    "    few = {}\n",
    "        \n",
    "    z_count = '0'\n",
    "    z_p = '1'\n",
    "    z_combo = \"0_0_0_0\"\n",
    "        \n",
    "    for element in BAV_new[keys]:\n",
    "        pos = element[9]\n",
    "        others = few.get(pos, [])\n",
    "        others = (element[10],element[11],element[12])\n",
    "        few[pos] = others \n",
    "        a.append(element[9])   \n",
    "\n",
    "            \n",
    "    for ele in BAV_old[keys]:\n",
    "        if ele[9] in a :\n",
    "            ele.append(few[ele[9]][0])\n",
    "            ele.append(few[ele[9]][1])\n",
    "            ele.append(few[ele[9]][2])\n",
    "                \n",
    "            fh.write(\"\\t\".join(split_keys)+\"\\t\"+\"\\t\".join(ele))\n",
    "            fh.write(\"\\n\")\n",
    "fh.close()\n",
    "\n",
    "\n",
    "out_file_2 = \"out_file_2.txt\"\n",
    "fh = open (out_file_2, \"w\")\n",
    "\n",
    "for keys in probes_only_old:\n",
    "    split_keys =  keys.split(\":\")\n",
    "\n",
    "    for ele in BAV_old[keys]:\n",
    "        \n",
    "        #if int(ele[10]) > 4 and  float(ele[11]) < 0.001 and int(ele[13]) > 4 and float(ele[14]) < 0.001: \n",
    "            \n",
    "        z_count = '0'\n",
    "        z_p = '1'\n",
    "        z_combo = \"0_0_0_0\"        \n",
    "         \n",
    "        ele.append(z_count)\n",
    "        ele.append(z_p)\n",
    "        ele.append(z_combo)\n",
    "        fh.write(\"\\t\".join(split_keys)+\"\\t\"+\"\\t\".join(ele))\n",
    "        fh.write(\"\\n\")\n",
    "fh.close()"
   ]
  },
  {
   "cell_type": "code",
   "execution_count": null,
   "metadata": {},
   "outputs": [],
   "source": [
    "%%bash\n",
    "\n",
    "#cat out_file.txt out_file_2.txt | sort -n -k1,1  > BAV_prox_PD_two_bio_rep_SP4_p0001.txt\n",
    "\n",
    "cat out_file.txt out_file_2.txt | sort -n -k1,1  > BAV_prox_PD_biological_rep_SP4_p0001.txt\n",
    "wc -l out_file.txt\n",
    "wc -l out_file_2.txt\n",
    "\n",
    "wc -l BAV_prox_PD_biological_rep_SP4_p0001.txt"
   ]
  },
  {
   "cell_type": "code",
   "execution_count": null,
   "metadata": {},
   "outputs": [],
   "source": [
    "%%bash\n",
    "rm -r out_file.txt out_file_2.txt"
   ]
  },
  {
   "cell_type": "markdown",
   "metadata": {},
   "source": [
    "### BAV and TAV"
   ]
  },
  {
   "cell_type": "code",
   "execution_count": null,
   "metadata": {},
   "outputs": [],
   "source": [
    "import os\n",
    "os.chdir(\"/Volumes/Work_drive/prj/BAV_TAV/data/raw_internal/Dec_17_HiCap_test_runs/Filtered_dataset\")\n",
    "\n",
    "file1 = \"TAV_prox_PD_biological_rep_SP4_p0001.txt\"\n",
    "file2 = \"BAV_prox_PD_biological_rep_SP4_p0001.txt\"\n",
    "\n",
    "TAV = {}\n",
    "BAV = {}\n",
    "\n",
    "\n",
    "with open (file1 , 'r') as TAV_file:\n",
    "    for lines in TAV_file:\n",
    "        line = lines.strip().split(\"\\t\")\n",
    "        Gene_transcript = line[0]+\":\"+line[1]\n",
    "        test = TAV.get(Gene_transcript, [])\n",
    "        other_fields = line[2:21]\n",
    "        test.append(other_fields)\n",
    "        TAV[Gene_transcript]= test\n",
    "\n",
    "with open (file2 , 'r') as BAV_file:\n",
    "    for lines in BAV_file:\n",
    "        line = lines.strip().split(\"\\t\")\n",
    "        Gene_transcript = line[0]+\":\"+line[1]\n",
    "        test = BAV.get(Gene_transcript, [])\n",
    "        other_fields = line[2:21]\n",
    "        test.append(other_fields)\n",
    "        BAV[Gene_transcript]= test\n",
    "        \n",
    "print (len (TAV.keys()))\n",
    "print (len (BAV.keys()))\n"
   ]
  },
  {
   "cell_type": "code",
   "execution_count": null,
   "metadata": {},
   "outputs": [],
   "source": [
    "print (len (TAV.values()))\n",
    "print (len (BAV.values()))\n"
   ]
  },
  {
   "cell_type": "code",
   "execution_count": null,
   "metadata": {},
   "outputs": [],
   "source": [
    "list_1 = list(TAV.keys())\n",
    "list_2 = list(BAV.keys())\n",
    "\n",
    "overlapped_probes = list(set(list_1).intersection(list_2))\n",
    "probes_BAV = list (set(list_2)-set(list_1))\n",
    "probes_TAV = list(set(list_1)-set(list_2))"
   ]
  },
  {
   "cell_type": "code",
   "execution_count": null,
   "metadata": {},
   "outputs": [],
   "source": [
    "print (len(overlapped_probes))\n",
    "print (len(probes_TAV))\n",
    "print (len(probes_BAV))"
   ]
  },
  {
   "cell_type": "code",
   "execution_count": null,
   "metadata": {},
   "outputs": [],
   "source": [
    "overlapped_probes[0:4]"
   ]
  },
  {
   "cell_type": "code",
   "execution_count": null,
   "metadata": {},
   "outputs": [],
   "source": [
    "probes_TAV[0:5]"
   ]
  },
  {
   "cell_type": "code",
   "execution_count": null,
   "metadata": {},
   "outputs": [],
   "source": [
    "probes_BAV[0:5]"
   ]
  },
  {
   "cell_type": "code",
   "execution_count": null,
   "metadata": {},
   "outputs": [],
   "source": [
    "out_file = \"out_file.txt\"\n",
    "fh = open (out_file, \"w\")\n",
    "\n",
    "for keys in overlapped_probes:\n",
    "    split_keys =  keys.split(\":\")\n",
    "    a = []\n",
    "    few = {}\n",
    "        \n",
    "    for element in BAV[keys]:\n",
    "        pos = element[9]\n",
    "        others = few.get(pos, [])\n",
    "        others = (element[10],element[11],element[12], \n",
    "                      element[13],element[14],element[15],\n",
    "                      element[16],element[17],element[18])\n",
    "        few[pos] = others \n",
    "        a.append(element[9])   \n",
    "            \n",
    "    for ele in TAV[keys]:\n",
    "        if ele[9] in a :\n",
    "            ele.append(few[ele[9]][0])\n",
    "            ele.append(few[ele[9]][1])\n",
    "            ele.append(few[ele[9]][2])\n",
    "            ele.append(few[ele[9]][3])\n",
    "            ele.append(few[ele[9]][4])\n",
    "            ele.append(few[ele[9]][5])\n",
    "            ele.append(few[ele[9]][6])\n",
    "            ele.append(few[ele[9]][7])\n",
    "            ele.append(few[ele[9]][8])\n",
    "            fh.write(\"\\t\".join(split_keys)+\"\\t\"+\"\\t\".join(ele))\n",
    "            fh.write(\"\\n\")\n",
    "fh.close()"
   ]
  },
  {
   "cell_type": "code",
   "execution_count": null,
   "metadata": {},
   "outputs": [],
   "source": [
    "out_file_2 = \"output_2.txt\"\n",
    "fh = open (out_file_2, \"w\")\n",
    "\n",
    "\n",
    "for keys in overlapped_probes:\n",
    "    #if keys ==\"MIR128-1:NR_029672\":\n",
    "    split_keys =  keys.split(\":\")\n",
    "    \n",
    "    z_count = '0'\n",
    "    z_p = '1'\n",
    "    z_combo = \"0_0_0_0\"\n",
    "\n",
    "    few_tav = {}\n",
    "    few_bav = {}\n",
    "    \n",
    "    \n",
    "    for element in BAV[keys]:\n",
    "        pos = element[9]\n",
    "        others = few_bav.get(pos, [])\n",
    "        others = (element[0],element[1],element[2], \n",
    "                      element[3],element[4],element[5],\n",
    "                      element[6],element[7],element[8],\n",
    "                      element[9],element[10],element[11],element[12], \n",
    "                      element[13],element[14],element[15],\n",
    "                      element[16],element[17],element[18])\n",
    "        few_bav[pos] = others  \n",
    "    \n",
    "    for element in TAV[keys]:\n",
    "        pos = element[9]\n",
    "        others = few_tav.get(pos, [])\n",
    "        others = (element[0],element[1],element[2], \n",
    "                      element[3],element[4],element[5],\n",
    "                      element[6],element[7],element[8],\n",
    "                      element[9],element[10],element[11],element[12], \n",
    "                      element[13],element[14],element[15],\n",
    "                      element[16],element[17],element[18])\n",
    "        few_tav[pos] = others \n",
    "        \n",
    "    list_1 = list(few_tav.keys())\n",
    "    list_2 = list(few_bav.keys())\n",
    "    \n",
    "    overlapped_distance = list(set(list_1).intersection(list_2))\n",
    "    distance_BAV = list (set(list_2)-set(list_1))\n",
    "    distance_TAV = list (set (list_1)-set(list_2))\n",
    "        \n",
    "        \n",
    "    for distance in overlapped_distance:\n",
    "        a = [i for i in few_tav[distance]]\n",
    "        a.append (few_bav[distance][10])\n",
    "        a.append (few_bav[distance][11])\n",
    "        a.append (few_bav[distance][12])\n",
    "        a.append (few_bav[distance][13])\n",
    "        a.append (few_bav[distance][14])\n",
    "        a.append (few_bav[distance][15])\n",
    "        a.append (few_bav[distance][16])\n",
    "        a.append (few_bav[distance][17])\n",
    "        a.append (few_bav[distance][18])\n",
    "        fh.write(\"\\t\".join(split_keys)+\"\\t\"+\"\\t\".join(a))\n",
    "        fh.write(\"\\n\")\n",
    "            \n",
    "    for distance in distance_TAV:\n",
    "        ele = [i for i in few_tav[distance]]        \n",
    "        ele.append(z_count)\n",
    "        ele.append(z_p)\n",
    "        ele.append(z_combo)\n",
    "        ele.append(z_count)\n",
    "        ele.append(z_p)\n",
    "        ele.append(z_combo)\n",
    "        ele.append(z_count)\n",
    "        ele.append(z_p)\n",
    "        ele.append(z_combo)    \n",
    "        fh.write(\"\\t\".join(split_keys)+\"\\t\"+\"\\t\".join( ele))\n",
    "        fh.write(\"\\n\")\n",
    "            \n",
    "    for distance in distance_BAV:\n",
    "        ele = [i for i in few_bav[distance]]\n",
    "        ele.append(z_count)\n",
    "        ele.append(z_p)\n",
    "        ele.append(z_combo)\n",
    "        ele.append(z_count)\n",
    "        ele.append(z_p)\n",
    "        ele.append(z_combo)\n",
    "        ele.append(z_count)\n",
    "        ele.append(z_p)\n",
    "        ele.append(z_combo)\n",
    "        myorder = [0,1,2,3,4,5,6,7,8,9,19,20,21,22,23,24,25,26,27,10,11,12,13,14,15,16,17,18]\n",
    "        order_ele = [ele[i] for i in myorder]\n",
    "        fh.write(\"\\t\".join(split_keys)+\"\\t\"+\"\\t\".join( order_ele))\n",
    "        fh.write(\"\\n\")\n",
    "fh.close()            "
   ]
  },
  {
   "cell_type": "code",
   "execution_count": null,
   "metadata": {},
   "outputs": [],
   "source": [
    "out_file_2 = \"BAV_only.txt\"\n",
    "fh = open (out_file_2, \"w\")\n",
    "\n",
    "for keys in probes_BAV:\n",
    "    split_keys =  keys.split(\":\")\n",
    "    for ele in BAV[keys]:    \n",
    "        z_count = '0'\n",
    "        z_p = '1'\n",
    "        z_combo = \"0_0_0_0\"\n",
    "        \n",
    "        ele.append(z_count)\n",
    "        ele.append(z_p)\n",
    "        ele.append(z_combo)\n",
    "        ele.append(z_count)\n",
    "        ele.append(z_p)\n",
    "        ele.append(z_combo)\n",
    "        ele.append(z_count)\n",
    "        ele.append(z_p)\n",
    "        ele.append(z_combo)\n",
    "        \n",
    "        myorder = [0,1,2,3,4,5,6,7,8,9,19,20,21,22,23,24,25,26,27,10,11,12,13,14,15,16,17,18]\n",
    "        order_ele = [ele[i] for i in myorder]\n",
    "        fh.write(\"\\t\".join(split_keys)+\"\\t\"+\"\\t\".join(order_ele))\n",
    "        fh.write(\"\\n\")\n",
    "fh.close()        "
   ]
  },
  {
   "cell_type": "code",
   "execution_count": null,
   "metadata": {},
   "outputs": [],
   "source": [
    "out_file_2 = \"TAV_only.txt\"\n",
    "fh = open (out_file_2, \"w\")\n",
    "\n",
    "for keys in probes_TAV:\n",
    "    split_keys =  keys.split(\":\")\n",
    "    for ele in TAV[keys]:    \n",
    "        z_count = '0'\n",
    "        z_p = '1'\n",
    "        z_combo = \"0_0_0_0\"\n",
    "        \n",
    "        ele.append(z_count)\n",
    "        ele.append(z_p)\n",
    "        ele.append(z_combo)\n",
    "        ele.append(z_count)\n",
    "        ele.append(z_p)\n",
    "        ele.append(z_combo)\n",
    "        ele.append(z_count)\n",
    "        ele.append(z_p)\n",
    "        ele.append(z_combo)\n",
    "        \n",
    "        fh.write(\"\\t\".join(split_keys)+\"\\t\"+\"\\t\".join(ele))\n",
    "        fh.write(\"\\n\")\n",
    "fh.close()"
   ]
  },
  {
   "cell_type": "code",
   "execution_count": null,
   "metadata": {},
   "outputs": [],
   "source": [
    "%%bash \n",
    "\n",
    "cat output_2.txt BAV_only.txt TAV_only.txt | sort -n -k1,1  > BAV_TAV_prox_PD_one_rep_SP4_p0001.txt\n",
    "wc -l output_2.txt\n",
    "wc -l BAV_only.txt\n",
    "wc -l TAV_only.txt\n",
    "\n",
    "wc -l BAV_TAV_prox_PD_one_rep_SP4_p0001.txt"
   ]
  },
  {
   "cell_type": "code",
   "execution_count": null,
   "metadata": {},
   "outputs": [],
   "source": [
    "%%bash \n",
    "\n",
    "rm -r output_2.txt BAV_only.txt TAV_only.txt"
   ]
  },
  {
   "cell_type": "markdown",
   "metadata": {},
   "source": [
    "```shell\n",
    "\n",
    " awk -v OFS='\\t' '{if (($13 >=  4 && $14 < 0.001 && $16 >=  4 && $17 < 0.001) || ($13 >=  4 && $14 < 0.001 && $19 >=  4 && $20 < 0.001) || ($16 >=  4 && $17 < 0.001 && $19 >=  4 && $20 < 0.001) || ($22 >=  4 && $23 < 0.001 && $25 >=  4 && $26 < 0.001) || ($22 >=  4 && $23 < 0.001 && $28 >=  4 && $29 < 0.001) || ($25 >=  4 && $26 < 0.001 && $28 >=  4 && $29 < 0.001)) print $0}' BAV_TAV_prox_PD_one_rep_SP4_p0001.txt > BAV_TAV_prox_three_replicates_PD_filter_SP4_001.txt\n",
    "\n",
    "\n",
    "```"
   ]
  },
  {
   "cell_type": "code",
   "execution_count": null,
   "metadata": {},
   "outputs": [],
   "source": [
    "%%bash\n",
    "\n",
    "awk  -v OFS=\"\\t\" '{print $1\":\"$2\":\"$3\":\"$9\":\"$10\":\"$11\":\"$12,$13,$16,$19,$22,$25,$28}' BAV_TAV_prox_PD_one_rep_SP4_p0001.txt > DL_data/SP_Counts_rep1.txt\n",
    "awk -v OFS=\"\\t\" '{print $1\":\"$2\":\"$3\":\"$9\":\"$10\":\"$11\":\"$12,$13,$16,$19,$22,$25,$28}' BAV_TAV_prox_three_replicates_PD_filter_SP4_001.txt > DL_data/SP_Counts_filt.txt"
   ]
  },
  {
   "cell_type": "markdown",
   "metadata": {},
   "source": [
    "### Adding differentially looped information in significant interactions "
   ]
  },
  {
   "cell_type": "code",
   "execution_count": null,
   "metadata": {},
   "outputs": [],
   "source": [
    "import os\n",
    "os.chdir(\"/Volumes/Work_drive/prj/BAV_TAV/data/raw_internal/Dec_17_HiCap_test_runs/Filtered_dataset/DL_data\")\n",
    "\n",
    "DL_called = \"DL_Loop_all.tsv\"\n",
    "DL_dict = {}\n",
    "with open (DL_called , 'r') as diff_file:\n",
    "    next(diff_file)\n",
    "    for lines in diff_file:\n",
    "        line = lines.strip().split(\"\\t\")\n",
    "        Gene_identifier = line[0]\n",
    "        other_fields  = DL_dict.get(Gene_identifier, '')\n",
    "        other_fields = line[1:6]\n",
    "        #test.append(other_fields)\n",
    "        DL_dict[Gene_identifier]= other_fields   \n",
    "    "
   ]
  },
  {
   "cell_type": "code",
   "execution_count": null,
   "metadata": {},
   "outputs": [],
   "source": [
    "interaction_file = \"/Volumes/Work_drive/prj/BAV_TAV/data/raw_internal/Dec_17_HiCap_test_runs/Filtered_dataset/BAV_TAV_prox_three_replicates_PD_filter_SP4_001.txt\"\n",
    "\n",
    "out_file_2 = \"../Interaction_PD_significant.txt\"\n",
    "fh = open (out_file_2, \"w\")\n",
    "\n",
    "with open (interaction_file, 'r') as interact_file:\n",
    "    for lines in interact_file:\n",
    "        line = lines.strip().split(\"\\t\")\n",
    "        #print (line)\n",
    "        identifier = \":\".join([line[0],line[1],line[2],line[8],line[9],line[10],line[11]])\n",
    "        #print (identifier)\n",
    "        if identifier in DL_dict.keys():\n",
    "            line.append(DL_dict[identifier][0])\n",
    "            line.append(DL_dict[identifier][1])\n",
    "            line.append(DL_dict[identifier][2])\n",
    "            line.append(DL_dict[identifier][3])\n",
    "            line.append(DL_dict[identifier][4])\n",
    "            \n",
    "            fh.write (\"\\t\".join(line))\n",
    "            fh.write (\"\\n\")\n",
    "fh.close()"
   ]
  },
  {
   "cell_type": "code",
   "execution_count": null,
   "metadata": {},
   "outputs": [],
   "source": []
  }
 ],
 "metadata": {
  "kernelspec": {
   "display_name": "Python [default]",
   "language": "python",
   "name": "python3"
  },
  "language_info": {
   "codemirror_mode": {
    "name": "ipython",
    "version": 3
   },
   "file_extension": ".py",
   "mimetype": "text/x-python",
   "name": "python",
   "nbconvert_exporter": "python",
   "pygments_lexer": "ipython3",
   "version": "3.6.6"
  }
 },
 "nbformat": 4,
 "nbformat_minor": 2
}
